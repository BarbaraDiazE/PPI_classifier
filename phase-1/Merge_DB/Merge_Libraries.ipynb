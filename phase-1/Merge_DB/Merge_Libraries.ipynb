{
 "cells": [
  {
   "cell_type": "markdown",
   "metadata": {},
   "source": [
    "MERGE LIBRARIES"
   ]
  },
  {
   "cell_type": "code",
   "execution_count": 1,
   "metadata": {},
   "outputs": [],
   "source": [
    "import pandas as pd\n",
    "from Generators_merge_DF import  cinco, seis"
   ]
  },
  {
   "cell_type": "code",
   "execution_count": 2,
   "metadata": {},
   "outputs": [],
   "source": [
    "#Difacquim computer root\n",
    "root = \"/home/barbara/Documents/DIFACQUIM/PPI_classifier/phase-1/Databases/\""
   ]
  },
  {
   "cell_type": "code",
   "execution_count": 7,
   "metadata": {},
   "outputs": [],
   "source": [
    "class MergeDataFrames:\n",
    "    \n",
    "    \"\"\"PARAMETERS\n",
    "    funcion, seleccionar el número de DF a pegar\n",
    "    referencia, indique un nombre para el archivo de salida\n",
    "    *archivos, el nombre de los csvs que desea pegar\"\"\"\n",
    "    \n",
    "    def merge(funcion, output_file, root, sep = \",\" ,*archivos ): \n",
    "        frames  = funcion(root, \",\", *archivos)  \n",
    "        DF = pd.concat(frames)\n",
    "        DF.reset_index()\n",
    "        print(DF.head())\n",
    "        print(\"DF shape: \", DF.shape)\n",
    "        print(DF.columns)\n",
    "        #print(DF.head())\n",
    "        #DF.to_csv(str(output_file)+ \".csv\", sep = \",\")\n",
    "        print(\"Files ready\")"
   ]
  },
  {
   "cell_type": "code",
   "execution_count": 8,
   "metadata": {},
   "outputs": [],
   "source": [
    "a = MergeDataFrames"
   ]
  },
  {
   "cell_type": "code",
   "execution_count": 9,
   "metadata": {},
   "outputs": [
    {
     "name": "stdout",
     "output_type": "stream",
     "text": [
      "   Unnamed: 0 ID Database        Name  \\\n",
      "0           0  AfroDb.564   NPR_00036   \n",
      "1           1   AfroDb.71  ABD_UD_004   \n",
      "2           2   AfroDb.70  ABD_UD_003   \n",
      "3           3  AfroDb.937     WA_0086   \n",
      "4           4  AfroDb.936     WA_0085   \n",
      "\n",
      "                                              SMILES   HBA   HBD    RB  \\\n",
      "0  CCCCCCCCCCCCCCCCCCCCCCCCCCCCCCCCCCCCCCCCCCC(OC...   7.0   3.0  51.0   \n",
      "1  C[C@H](CCC(O[C@H](C[C@@H]([C@@H]1CC2)[C@H]3[C@...  27.0  14.0  18.0   \n",
      "2  C[C@H](CC[C@@]([C@H]1C)(OC)O[C@H](C2)[C@H]1[C@...  26.0  14.0  17.0   \n",
      "3  COc(cc(/C=C/C(OCCCCCCCCCCCCCCCCCCCCCCCCCCCCCCC...  11.0   3.0  61.0   \n",
      "4  COc(cc(/C=C/C(OCCCCCCCCCCCCCCCCCCCCCCCCCCCCCCC...   8.0   3.0  52.0   \n",
      "\n",
      "      LogP    TPSA        MW  Heavy Atom  Ring Count  Fraction CSP3  \\\n",
      "0  22.4139  105.45  1194.003        85.0        85.0           85.0   \n",
      "1  -3.5356  418.89  1195.309        83.0        83.0           83.0   \n",
      "2  -2.6588  393.98  1195.353        83.0        83.0           83.0   \n",
      "3  16.9936  201.42  1117.597        79.0        79.0           79.0   \n",
      "4  17.0180  122.52   943.489        67.0        67.0           67.0   \n",
      "\n",
      "  subLibrary Library  \n",
      "0     AFRODB  AFRODB  \n",
      "1     AFRODB  AFRODB  \n",
      "2     AFRODB  AFRODB  \n",
      "3     AFRODB  AFRODB  \n",
      "4     AFRODB  AFRODB  \n",
      "DF shape:  (21084, 15)\n",
      "Index(['Unnamed: 0', 'ID Database', 'Name', 'SMILES', 'HBA', 'HBD', 'RB',\n",
      "       'LogP', 'TPSA', 'MW', 'Heavy Atom', 'Ring Count', 'Fraction CSP3',\n",
      "       'subLibrary', 'Library'],\n",
      "      dtype='object')\n",
      "Files ready\n"
     ]
    }
   ],
   "source": [
    "a.merge(cinco, \"prueba.csv\",root,\",\", \"AFRO_DB.csv\", \"BIOFACQUIM_DB.csv\", \"Epidatabase_DB.csv\", \"FDA_DB.csv\", \"PPI_DB.csv\")"
   ]
  },
  {
   "cell_type": "code",
   "execution_count": 11,
   "metadata": {},
   "outputs": [
    {
     "ename": "NameError",
     "evalue": "name 'pwd' is not defined",
     "output_type": "error",
     "traceback": [
      "\u001b[0;31m-------------------------------------------------------------------\u001b[0m",
      "\u001b[0;31mNameError\u001b[0m                         Traceback (most recent call last)",
      "\u001b[0;32m<ipython-input-11-bf4ebc979129>\u001b[0m in \u001b[0;36m<module>\u001b[0;34m\u001b[0m\n\u001b[1;32m      1\u001b[0m \u001b[0;31m#features = [\"Name\", \"SMILES\", \"Library\"]\u001b[0m\u001b[0;34m\u001b[0m\u001b[0;34m\u001b[0m\u001b[0;34m\u001b[0m\u001b[0m\n\u001b[1;32m      2\u001b[0m \u001b[0;31m#Data = Data[features]\u001b[0m\u001b[0;34m\u001b[0m\u001b[0;34m\u001b[0m\u001b[0;34m\u001b[0m\u001b[0m\n\u001b[0;32m----> 3\u001b[0;31m \u001b[0mpwd\u001b[0m\u001b[0;34m\u001b[0m\u001b[0;34m\u001b[0m\u001b[0m\n\u001b[0m",
      "\u001b[0;31mNameError\u001b[0m: name 'pwd' is not defined"
     ]
    }
   ],
   "source": [
    "#features = [\"Name\", \"SMILES\", \"Library\"]\n",
    "#Data = Data[features]\n"
   ]
  },
  {
   "cell_type": "code",
   "execution_count": 17,
   "metadata": {},
   "outputs": [],
   "source": [
    "d = pd.read_csv(str(r)+\"AFRO_DB.csv\")"
   ]
  },
  {
   "cell_type": "code",
   "execution_count": 18,
   "metadata": {},
   "outputs": [
    {
     "data": {
      "text/html": [
       "<div>\n",
       "<style scoped>\n",
       "    .dataframe tbody tr th:only-of-type {\n",
       "        vertical-align: middle;\n",
       "    }\n",
       "\n",
       "    .dataframe tbody tr th {\n",
       "        vertical-align: top;\n",
       "    }\n",
       "\n",
       "    .dataframe thead th {\n",
       "        text-align: right;\n",
       "    }\n",
       "</style>\n",
       "<table border=\"1\" class=\"dataframe\">\n",
       "  <thead>\n",
       "    <tr style=\"text-align: right;\">\n",
       "      <th></th>\n",
       "      <th>Unnamed: 0</th>\n",
       "      <th>ID Database</th>\n",
       "      <th>Name</th>\n",
       "      <th>SMILES</th>\n",
       "      <th>HBA</th>\n",
       "      <th>HBD</th>\n",
       "      <th>RB</th>\n",
       "      <th>LogP</th>\n",
       "      <th>TPSA</th>\n",
       "      <th>MW</th>\n",
       "      <th>Heavy Atom</th>\n",
       "      <th>Ring Count</th>\n",
       "      <th>Fraction CSP3</th>\n",
       "      <th>subLibrary</th>\n",
       "      <th>Library</th>\n",
       "    </tr>\n",
       "  </thead>\n",
       "  <tbody>\n",
       "    <tr>\n",
       "      <th>0</th>\n",
       "      <td>0</td>\n",
       "      <td>AfroDb.564</td>\n",
       "      <td>NPR_00036</td>\n",
       "      <td>CCCCCCCCCCCCCCCCCCCCCCCCCCCCCCCCCCCCCCCCCCC(OC...</td>\n",
       "      <td>7.0</td>\n",
       "      <td>3.0</td>\n",
       "      <td>51.0</td>\n",
       "      <td>22.4139</td>\n",
       "      <td>105.45</td>\n",
       "      <td>1194.003</td>\n",
       "      <td>85.0</td>\n",
       "      <td>85.0</td>\n",
       "      <td>85.0</td>\n",
       "      <td>AFRODB</td>\n",
       "      <td>AFRODB</td>\n",
       "    </tr>\n",
       "    <tr>\n",
       "      <th>1</th>\n",
       "      <td>1</td>\n",
       "      <td>AfroDb.71</td>\n",
       "      <td>ABD_UD_004</td>\n",
       "      <td>C[C@H](CCC(O[C@H](C[C@@H]([C@@H]1CC2)[C@H]3[C@...</td>\n",
       "      <td>27.0</td>\n",
       "      <td>14.0</td>\n",
       "      <td>18.0</td>\n",
       "      <td>-3.5356</td>\n",
       "      <td>418.89</td>\n",
       "      <td>1195.309</td>\n",
       "      <td>83.0</td>\n",
       "      <td>83.0</td>\n",
       "      <td>83.0</td>\n",
       "      <td>AFRODB</td>\n",
       "      <td>AFRODB</td>\n",
       "    </tr>\n",
       "    <tr>\n",
       "      <th>2</th>\n",
       "      <td>2</td>\n",
       "      <td>AfroDb.70</td>\n",
       "      <td>ABD_UD_003</td>\n",
       "      <td>C[C@H](CC[C@@]([C@H]1C)(OC)O[C@H](C2)[C@H]1[C@...</td>\n",
       "      <td>26.0</td>\n",
       "      <td>14.0</td>\n",
       "      <td>17.0</td>\n",
       "      <td>-2.6588</td>\n",
       "      <td>393.98</td>\n",
       "      <td>1195.353</td>\n",
       "      <td>83.0</td>\n",
       "      <td>83.0</td>\n",
       "      <td>83.0</td>\n",
       "      <td>AFRODB</td>\n",
       "      <td>AFRODB</td>\n",
       "    </tr>\n",
       "    <tr>\n",
       "      <th>3</th>\n",
       "      <td>3</td>\n",
       "      <td>AfroDb.937</td>\n",
       "      <td>WA_0086</td>\n",
       "      <td>COc(cc(/C=C/C(OCCCCCCCCCCCCCCCCCCCCCCCCCCCCCCC...</td>\n",
       "      <td>11.0</td>\n",
       "      <td>3.0</td>\n",
       "      <td>61.0</td>\n",
       "      <td>16.9936</td>\n",
       "      <td>201.42</td>\n",
       "      <td>1117.597</td>\n",
       "      <td>79.0</td>\n",
       "      <td>79.0</td>\n",
       "      <td>79.0</td>\n",
       "      <td>AFRODB</td>\n",
       "      <td>AFRODB</td>\n",
       "    </tr>\n",
       "    <tr>\n",
       "      <th>4</th>\n",
       "      <td>4</td>\n",
       "      <td>AfroDb.936</td>\n",
       "      <td>WA_0085</td>\n",
       "      <td>COc(cc(/C=C/C(OCCCCCCCCCCCCCCCCCCCCCCCCCCCCCCC...</td>\n",
       "      <td>8.0</td>\n",
       "      <td>3.0</td>\n",
       "      <td>52.0</td>\n",
       "      <td>17.0180</td>\n",
       "      <td>122.52</td>\n",
       "      <td>943.489</td>\n",
       "      <td>67.0</td>\n",
       "      <td>67.0</td>\n",
       "      <td>67.0</td>\n",
       "      <td>AFRODB</td>\n",
       "      <td>AFRODB</td>\n",
       "    </tr>\n",
       "  </tbody>\n",
       "</table>\n",
       "</div>"
      ],
      "text/plain": [
       "   Unnamed: 0 ID Database        Name  \\\n",
       "0           0  AfroDb.564   NPR_00036   \n",
       "1           1   AfroDb.71  ABD_UD_004   \n",
       "2           2   AfroDb.70  ABD_UD_003   \n",
       "3           3  AfroDb.937     WA_0086   \n",
       "4           4  AfroDb.936     WA_0085   \n",
       "\n",
       "                                              SMILES   HBA   HBD    RB  \\\n",
       "0  CCCCCCCCCCCCCCCCCCCCCCCCCCCCCCCCCCCCCCCCCCC(OC...   7.0   3.0  51.0   \n",
       "1  C[C@H](CCC(O[C@H](C[C@@H]([C@@H]1CC2)[C@H]3[C@...  27.0  14.0  18.0   \n",
       "2  C[C@H](CC[C@@]([C@H]1C)(OC)O[C@H](C2)[C@H]1[C@...  26.0  14.0  17.0   \n",
       "3  COc(cc(/C=C/C(OCCCCCCCCCCCCCCCCCCCCCCCCCCCCCCC...  11.0   3.0  61.0   \n",
       "4  COc(cc(/C=C/C(OCCCCCCCCCCCCCCCCCCCCCCCCCCCCCCC...   8.0   3.0  52.0   \n",
       "\n",
       "      LogP    TPSA        MW  Heavy Atom  Ring Count  Fraction CSP3  \\\n",
       "0  22.4139  105.45  1194.003        85.0        85.0           85.0   \n",
       "1  -3.5356  418.89  1195.309        83.0        83.0           83.0   \n",
       "2  -2.6588  393.98  1195.353        83.0        83.0           83.0   \n",
       "3  16.9936  201.42  1117.597        79.0        79.0           79.0   \n",
       "4  17.0180  122.52   943.489        67.0        67.0           67.0   \n",
       "\n",
       "  subLibrary Library  \n",
       "0     AFRODB  AFRODB  \n",
       "1     AFRODB  AFRODB  \n",
       "2     AFRODB  AFRODB  \n",
       "3     AFRODB  AFRODB  \n",
       "4     AFRODB  AFRODB  "
      ]
     },
     "execution_count": 18,
     "metadata": {},
     "output_type": "execute_result"
    }
   ],
   "source": [
    "d.head()"
   ]
  },
  {
   "cell_type": "code",
   "execution_count": null,
   "metadata": {},
   "outputs": [],
   "source": []
  }
 ],
 "metadata": {
  "kernelspec": {
   "display_name": "Python 3",
   "language": "python",
   "name": "python3"
  },
  "language_info": {
   "codemirror_mode": {
    "name": "ipython",
    "version": 3
   },
   "file_extension": ".py",
   "mimetype": "text/x-python",
   "name": "python",
   "nbconvert_exporter": "python",
   "pygments_lexer": "ipython3",
   "version": "3.7.3"
  }
 },
 "nbformat": 4,
 "nbformat_minor": 2
}
