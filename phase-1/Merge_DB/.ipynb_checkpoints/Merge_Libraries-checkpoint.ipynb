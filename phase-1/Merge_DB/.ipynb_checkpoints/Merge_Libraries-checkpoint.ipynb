{
 "cells": [
  {
   "cell_type": "markdown",
   "metadata": {},
   "source": [
    "MERGE LIBRARIES"
   ]
  },
  {
   "cell_type": "code",
   "execution_count": 10,
   "metadata": {},
   "outputs": [],
   "source": [
    "import pandas as pd\n",
    "from Generators_merge_DF import  cinco, seis"
   ]
  },
  {
   "cell_type": "code",
   "execution_count": 11,
   "metadata": {},
   "outputs": [],
   "source": [
    "#Difacquim computer root\n",
    "root = \"/home/barbara/Documents/DIFACQUIM/PPI_classifier/phase-1/Databases/\""
   ]
  },
  {
   "cell_type": "code",
   "execution_count": 22,
   "metadata": {},
   "outputs": [],
   "source": [
    "class MergeDataFrames:\n",
    "    \n",
    "    \"\"\"PARAMETERS\n",
    "    funcion, seleccionar el número de DF a pegar\n",
    "    referencia, indique un nombre para el archivo de salida\n",
    "    *archivos, el nombre de los csvs que desea pegar\"\"\"\n",
    "    \n",
    "    def merge(funcion, output_file, root, sep = \",\" ,*archivos ): \n",
    "        frames  = funcion(root, \",\", *archivos)  \n",
    "        DF = pd.concat(frames)\n",
    "        DF.reset_index()\n",
    "        DF = DF.drop(\"Unnamed: 0\", axis = 1)\n",
    "        print(DF.head())\n",
    "        print(\"DF shape: \", DF.shape)\n",
    "        print(DF.columns)\n",
    "        DF.to_csv(str(root) + str(output_file) , sep = \",\")\n",
    "        print(\"Files ready\")"
   ]
  },
  {
   "cell_type": "code",
   "execution_count": 23,
   "metadata": {},
   "outputs": [],
   "source": [
    "a = MergeDataFrames"
   ]
  },
  {
   "cell_type": "code",
   "execution_count": 24,
   "metadata": {},
   "outputs": [
    {
     "name": "stdout",
     "output_type": "stream",
     "text": [
      "  ID Database        Name                                             SMILES  \\\n",
      "0  AfroDb.564   NPR_00036  CCCCCCCCCCCCCCCCCCCCCCCCCCCCCCCCCCCCCCCCCCC(OC...   \n",
      "1   AfroDb.71  ABD_UD_004  C[C@H](CCC(O[C@H](C[C@@H]([C@@H]1CC2)[C@H]3[C@...   \n",
      "2   AfroDb.70  ABD_UD_003  C[C@H](CC[C@@]([C@H]1C)(OC)O[C@H](C2)[C@H]1[C@...   \n",
      "3  AfroDb.937     WA_0086  COc(cc(/C=C/C(OCCCCCCCCCCCCCCCCCCCCCCCCCCCCCCC...   \n",
      "4  AfroDb.936     WA_0085  COc(cc(/C=C/C(OCCCCCCCCCCCCCCCCCCCCCCCCCCCCCCC...   \n",
      "\n",
      "    HBA   HBD    RB     LogP    TPSA        MW  Heavy Atom  Ring Count  \\\n",
      "0   7.0   3.0  51.0  22.4139  105.45  1194.003        85.0        85.0   \n",
      "1  27.0  14.0  18.0  -3.5356  418.89  1195.309        83.0        83.0   \n",
      "2  26.0  14.0  17.0  -2.6588  393.98  1195.353        83.0        83.0   \n",
      "3  11.0   3.0  61.0  16.9936  201.42  1117.597        79.0        79.0   \n",
      "4   8.0   3.0  52.0  17.0180  122.52   943.489        67.0        67.0   \n",
      "\n",
      "   Fraction CSP3 subLibrary Library PPI Epigenetic  \n",
      "0           85.0     AFRODB  AFRODB  No         No  \n",
      "1           83.0     AFRODB  AFRODB  No         No  \n",
      "2           83.0     AFRODB  AFRODB  No         No  \n",
      "3           79.0     AFRODB  AFRODB  No         No  \n",
      "4           67.0     AFRODB  AFRODB  No         No  \n",
      "DF shape:  (21084, 16)\n",
      "Index(['ID Database', 'Name', 'SMILES', 'HBA', 'HBD', 'RB', 'LogP', 'TPSA',\n",
      "       'MW', 'Heavy Atom', 'Ring Count', 'Fraction CSP3', 'subLibrary',\n",
      "       'Library', 'PPI', 'Epigenetic'],\n",
      "      dtype='object')\n",
      "Files ready\n"
     ]
    }
   ],
   "source": [
    "a.merge(cinco, \"Dataset.csv\",root,\",\", \"AFRO_DB.csv\", \"BIOFACQUIM_DB.csv\", \"Epidatabase_DB.csv\", \"FDA_DB.csv\", \"PPI_DB.csv\")"
   ]
  },
  {
   "cell_type": "code",
   "execution_count": null,
   "metadata": {},
   "outputs": [],
   "source": []
  },
  {
   "cell_type": "code",
   "execution_count": null,
   "metadata": {},
   "outputs": [],
   "source": []
  },
  {
   "cell_type": "code",
   "execution_count": null,
   "metadata": {},
   "outputs": [],
   "source": []
  },
  {
   "cell_type": "code",
   "execution_count": null,
   "metadata": {},
   "outputs": [],
   "source": []
  }
 ],
 "metadata": {
  "kernelspec": {
   "display_name": "Python 3",
   "language": "python",
   "name": "python3"
  },
  "language_info": {
   "codemirror_mode": {
    "name": "ipython",
    "version": 3
   },
   "file_extension": ".py",
   "mimetype": "text/x-python",
   "name": "python",
   "nbconvert_exporter": "python",
   "pygments_lexer": "ipython3",
   "version": "3.7.3"
  }
 },
 "nbformat": 4,
 "nbformat_minor": 2
}
