{
 "cells": [
  {
   "cell_type": "markdown",
   "metadata": {},
   "source": [
    "# SVM"
   ]
  },
  {
   "cell_type": "markdown",
   "metadata": {},
   "source": [
    "Objective: Build a model to predict if a single compound is a \"PPI modulator\" or is not.\n",
    "\n",
    "Data: ADME descriptors for 3 libraries.\n",
    "    Libraries:\n",
    "        AFRODB\n",
    "        Biofacquim\n",
    "        FDA\n",
    "        PPI\n",
    "        \n",
    "        \n",
    "    Endpoint: \"PPI modulator\" (Binary)\n",
    "        1 -> PPI modulator\n",
    "        0 -> Not PPI modulator\n",
    "        \n",
    "    Descriptors\n",
    "        ADME descriptors:\n",
    "            '#Aromatic heavy atoms'\n",
    "            '#H-bond acceptors'\n",
    "            '#H-bond donors'\n",
    "            '#Heavy atoms'\n",
    "             \n",
    "Method: Support Vector Machine"
   ]
  },
  {
   "cell_type": "markdown",
   "metadata": {},
   "source": [
    "## Import Libraries"
   ]
  },
  {
   "cell_type": "code",
   "execution_count": 59,
   "metadata": {},
   "outputs": [],
   "source": [
    "import pandas as pd\n",
    "import numpy as np\n",
    "import matplotlib.pyplot as plt\n",
    "import seaborn as sns\n",
    "%matplotlib inline\n",
    "#\n",
    "import os\n",
    "from sklearn.preprocessing import label_binarize\n",
    "\n",
    "from sklearn.model_selection import train_test_split\n",
    "from sklearn.svm import SVC\n",
    "\n",
    "from sklearn.metrics import classification_report,confusion_matrix\n",
    "from sklearn.metrics import roc_curve, roc_auc_score, accuracy_score\n",
    "from sklearn.metrics import f1_score\n",
    "from Functions_SVM import test_compound,test_compound_real_category"
   ]
  },
  {
   "cell_type": "code",
   "execution_count": 60,
   "metadata": {},
   "outputs": [],
   "source": [
    "descriptors = ['HBA', 'HBD', 'RB', 'LogP', 'TPSA', 'MW', 'Heavy Atom', 'Ring Count', 'Fraction CSP3',]\n",
    "#Falta generar los descriptores"
   ]
  },
  {
   "cell_type": "code",
   "execution_count": 61,
   "metadata": {},
   "outputs": [],
   "source": [
    "#Difacquim computer root\n",
    "root = \"/home/barbara/Documents/DIFACQUIM/PPI_classifier/phase-1/Databases/\""
   ]
  },
  {
   "cell_type": "code",
   "execution_count": 63,
   "metadata": {},
   "outputs": [],
   "source": [
    "class SVM:\n",
    "    \n",
    "    def __init__(self, input_file, target, descriptors):\n",
    "        self.Data  = pd.read_csv(root+str(input_file))\n",
    "        #Muestreo\n",
    "        self.Data = pd.DataFrame.sample(self.Data, frac=0.05, replace=True,  random_state=1992, axis=None) \n",
    "        x = self.Data[self.Data[\"Library\"] == \"PPI\"]\n",
    "        print(x.Name)\n",
    "        print(self.Data.PPI.unique())\n",
    "        print(\"Libraries are: \", self.Data.Library.unique())\n",
    "        #print(\"PPI modulator: \", self.Data[target].unique())\n",
    "        print(\"Total compounds \", self.Data.shape[0])\n",
    "        self.descriptors = descriptors\n",
    "        self.target = target\n",
    "        \n",
    "    def train_model(self, fraction, kernel):\n",
    "        \"\"\"\n",
    "        fraction: float, indicates test set composition\n",
    "        kernel: str, customize kernel (see scikit learn documentation)\n",
    "        \"\"\"\n",
    "        #Binarize the output\n",
    "        y = np.array(self.Data[self.target])\n",
    "        y = label_binarize(y, classes = [\"No\", \"Yes\"])\n",
    "        y = np.reshape(y, len(self.Data[self.target]))\n",
    "        print(y)\n",
    "        X_train, X_test, y_train, y_test = train_test_split(self.Data[self.descriptors], y, test_size = fraction,random_state=1992)\n",
    "        model = SVC(kernel = kernel)\n",
    "        print(model)\n",
    "        model.fit(X_train, y_train)\n",
    "        self.model = model\n",
    "        self.X_test = X_test\n",
    "        self.y_test = y_test\n",
    "        self.kernel = kernel\n",
    "                \n",
    "    def single_prediction(self, Library, Name, target):\n",
    "        compound = test_compound(self.Data, Library, Name, self.descriptors)   \n",
    "        result = test_compound_real_category(self.Data, Name, target)\n",
    "        print(\"Evaluation of \", str(Name))\n",
    "        print(\"Predicted activity value: \", str(self.model.predict(compound)))\n",
    "        print(\"Real activity value\", result)\n",
    "    \n",
    "    def metrics(self):\n",
    "        y_test = self.y_test\n",
    "        predictions = self.model.predict(self.X_test)\n",
    "        print(accuracy_score(y_test,predictions))\n",
    "        print(confusion_matrix(y_test,predictions))\n",
    "        print(roc_auc_score(y_test, predictions))\n",
    "        print(classification_report(y_test,predictions))\n",
    "        print(roc_curve(y_test, predictions))\n",
    "        self.predictions = predictions \n",
    "        #Hacer que imprima in data frame con los resultados\n",
    "\n",
    "    def report(self, ref_output):\n",
    "        y_test = self.y_test\n",
    "        predictions = self.predictions \n",
    "        Report = pd.DataFrame.from_dict(\n",
    "            {\"Method\": \"SVM\",\n",
    "            \"Kernel\": self.kernel,\n",
    "            \"descriptors\": [self.descriptors],\n",
    "            \"Accuracy\":[accuracy_score(y_test,predictions)],\n",
    "            \"F1\": [f1_score(y_test,predictions)],\n",
    "            #\"AUC\":[],\n",
    "            \"Confusion matrix\": str(confusion_matrix(y_test,predictions)),\n",
    "            #print(roc_auc_score(y_test, predictions))\n",
    "            #\"Classification report\":[str(classification_report(y_test,predictions))],\n",
    "            #print(roc_curve(y_test, predictions))\n",
    "            })\n",
    "        print(Report.head())\n",
    "        Report.to_csv(\"SVM_\"+str(ref_output)+\".csv\", sep = \",\")"
   ]
  },
  {
   "cell_type": "code",
   "execution_count": 64,
   "metadata": {},
   "outputs": [
    {
     "name": "stdout",
     "output_type": "stream",
     "text": [
      "20365    1602\n",
      "19511     679\n",
      "19447     458\n",
      "20482    1617\n",
      "21055    1601\n",
      "20777     370\n",
      "19479     557\n",
      "19828    1595\n",
      "20519    1623\n",
      "20273    1651\n",
      "20644    1644\n",
      "20700      39\n",
      "19789    1491\n",
      "20248    1289\n",
      "19536     729\n",
      "21078    1754\n",
      "20327    1700\n",
      "19319      40\n",
      "19494     623\n",
      "20846     633\n",
      "19746    1391\n",
      "19744    1383\n",
      "20816     555\n",
      "20850     646\n",
      "21030    1437\n",
      "20212     543\n",
      "20656    1646\n",
      "19420     383\n",
      "20027    1107\n",
      "20641    1644\n",
      "         ... \n",
      "19911     439\n",
      "19461     497\n",
      "20626    1640\n",
      "20942    1086\n",
      "21072    1747\n",
      "19778    1462\n",
      "19472     530\n",
      "19598     920\n",
      "20857     684\n",
      "19473     532\n",
      "20178    1749\n",
      "20440    1610\n",
      "19944     654\n",
      "19764    1433\n",
      "20315    1689\n",
      "19294    1732\n",
      "19623     971\n",
      "19385     285\n",
      "20772     357\n",
      "19812    1568\n",
      "19738    1350\n",
      "19621     964\n",
      "20428    1608\n",
      "20299    1673\n",
      "20366    1602\n",
      "19624     974\n",
      "20836     603\n",
      "19446     456\n",
      "20167    1742\n",
      "20920     965\n",
      "Name: Name, Length: 88, dtype: object\n",
      "['No' 'Yes']\n",
      "Libraries are:  ['Epidatabase' 'FDA' 'PPI' 'AFRODB' 'BIOFACQUIM']\n",
      "Total compounds  1054\n"
     ]
    }
   ],
   "source": [
    "a = SVM(\"Dataset.csv\", \"PPI\", descriptors)"
   ]
  },
  {
   "cell_type": "code",
   "execution_count": 65,
   "metadata": {},
   "outputs": [
    {
     "name": "stdout",
     "output_type": "stream",
     "text": [
      "[0 0 0 ... 0 0 0]\n",
      "SVC(C=1.0, cache_size=200, class_weight=None, coef0=0.0,\n",
      "    decision_function_shape='ovr', degree=3, gamma='auto_deprecated',\n",
      "    kernel='rbf', max_iter=-1, probability=False, random_state=None,\n",
      "    shrinking=True, tol=0.001, verbose=False)\n"
     ]
    },
    {
     "name": "stderr",
     "output_type": "stream",
     "text": [
      "/home/barbara/anaconda3/lib/python3.7/site-packages/sklearn/svm/base.py:193: FutureWarning: The default value of gamma will change from 'auto' to 'scale' in version 0.22 to account better for unscaled features. Set gamma explicitly to 'auto' or 'scale' to avoid this warning.\n",
      "  \"avoid this warning.\", FutureWarning)\n"
     ]
    }
   ],
   "source": [
    "a.train_model(0.3, 'rbf')"
   ]
  },
  {
   "cell_type": "code",
   "execution_count": 66,
   "metadata": {},
   "outputs": [
    {
     "name": "stdout",
     "output_type": "stream",
     "text": [
      "Evaluation of  1602\n",
      "Predicted activity value:  [1 1]\n",
      "Real activity value ['Yes', 'Yes']\n"
     ]
    }
   ],
   "source": [
    "a.single_prediction(\"PPI\", \"1602\", \"PPI\")"
   ]
  },
  {
   "cell_type": "code",
   "execution_count": 67,
   "metadata": {},
   "outputs": [
    {
     "name": "stdout",
     "output_type": "stream",
     "text": [
      "0.9274447949526814\n",
      "[[292   1]\n",
      " [ 22   2]]\n",
      "0.5399601820250284\n",
      "              precision    recall  f1-score   support\n",
      "\n",
      "           0       0.93      1.00      0.96       293\n",
      "           1       0.67      0.08      0.15        24\n",
      "\n",
      "    accuracy                           0.93       317\n",
      "   macro avg       0.80      0.54      0.56       317\n",
      "weighted avg       0.91      0.93      0.90       317\n",
      "\n",
      "(array([0.        , 0.00341297, 1.        ]), array([0.        , 0.08333333, 1.        ]), array([2, 1, 0]))\n"
     ]
    }
   ],
   "source": [
    "a.metrics()"
   ]
  },
  {
   "cell_type": "code",
   "execution_count": 68,
   "metadata": {},
   "outputs": [
    {
     "name": "stdout",
     "output_type": "stream",
     "text": [
      "  Method Kernel                                        descriptors  Accuracy  \\\n",
      "0    SVM    rbf  [HBA, HBD, RB, LogP, TPSA, MW, Heavy Atom, Rin...  0.927445   \n",
      "\n",
      "         F1         Confusion matrix  \n",
      "0  0.148148  [[292   1]\\n [ 22   2]]  \n"
     ]
    }
   ],
   "source": [
    "a.report(\"MyfirstSVM\")"
   ]
  },
  {
   "cell_type": "code",
   "execution_count": 24,
   "metadata": {},
   "outputs": [],
   "source": [
    "#Identify Numerical Data (Descriptors)\n",
    "def numerical_descriptors(DataFrame):\n",
    "    print(DataFrame.select_dtypes(np.number).columns)"
   ]
  },
  {
   "cell_type": "code",
   "execution_count": null,
   "metadata": {},
   "outputs": [],
   "source": []
  }
 ],
 "metadata": {
  "kernelspec": {
   "display_name": "Python 3",
   "language": "python",
   "name": "python3"
  },
  "language_info": {
   "codemirror_mode": {
    "name": "ipython",
    "version": 3
   },
   "file_extension": ".py",
   "mimetype": "text/x-python",
   "name": "python",
   "nbconvert_exporter": "python",
   "pygments_lexer": "ipython3",
   "version": "3.7.3"
  }
 },
 "nbformat": 4,
 "nbformat_minor": 2
}
