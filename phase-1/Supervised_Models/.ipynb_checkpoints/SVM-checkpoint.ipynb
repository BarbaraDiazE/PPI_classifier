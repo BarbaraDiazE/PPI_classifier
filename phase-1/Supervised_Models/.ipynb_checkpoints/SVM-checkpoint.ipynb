{
 "cells": [
  {
   "cell_type": "markdown",
   "metadata": {},
   "source": [
    "# SVM"
   ]
  },
  {
   "cell_type": "markdown",
   "metadata": {},
   "source": [
    "Objective: Build a model to predict if a single compound is a \"PPI modulator\" or is not.\n",
    "\n",
    "Data: ADME descriptors for 3 libraries.\n",
    "    Libraries:\n",
    "        AFRODB\n",
    "        Biofacquim\n",
    "        FDA\n",
    "        PPI\n",
    "        \n",
    "        \n",
    "    Endpoint: \"PPI modulator\" (Binary)\n",
    "        1 -> PPI modulator\n",
    "        0 -> Not PPI modulator\n",
    "        \n",
    "    Descriptors\n",
    "        ADME descriptors:\n",
    "            '#Aromatic heavy atoms'\n",
    "            '#H-bond acceptors'\n",
    "            '#H-bond donors'\n",
    "            '#Heavy atoms'\n",
    "             \n",
    "Method: Support Vector Machine"
   ]
  },
  {
   "cell_type": "markdown",
   "metadata": {},
   "source": [
    "## Import Libraries"
   ]
  },
  {
   "cell_type": "code",
   "execution_count": 1,
   "metadata": {},
   "outputs": [],
   "source": [
    "import pandas as pd\n",
    "import numpy as np\n",
    "import matplotlib.pyplot as plt\n",
    "import seaborn as sns\n",
    "%matplotlib inline\n",
    "#\n",
    "import os\n",
    "from sklearn.preprocessing import label_binarize\n",
    "\n",
    "from sklearn.model_selection import train_test_split\n",
    "from sklearn.svm import SVC\n",
    "\n",
    "from sklearn.metrics import classification_report,confusion_matrix\n",
    "from sklearn.metrics import roc_curve, roc_auc_score, accuracy_score\n",
    "\n",
    "from Functions_SVM import test_compound,test_compound_real_category"
   ]
  },
  {
   "cell_type": "code",
   "execution_count": 2,
   "metadata": {},
   "outputs": [],
   "source": [
    "descriptors = ['HBA', 'HBD', 'RB', 'LogP', 'TPSA', 'MW', 'Heavy Atom', 'Ring Count', 'Fraction CSP3',]\n",
    "#Falta generar los descriptores"
   ]
  },
  {
   "cell_type": "code",
   "execution_count": 3,
   "metadata": {},
   "outputs": [],
   "source": [
    "#Difacquim computer root\n",
    "root = \"/home/barbara/Documents/DIFACQUIM/PPI_classifier/phase-1/Databases/\""
   ]
  },
  {
   "cell_type": "code",
   "execution_count": 27,
   "metadata": {},
   "outputs": [
    {
     "ename": "SyntaxError",
     "evalue": "invalid syntax (<ipython-input-27-552b730f27ca>, line 36)",
     "output_type": "error",
     "traceback": [
      "\u001b[0;36m  File \u001b[0;32m\"<ipython-input-27-552b730f27ca>\"\u001b[0;36m, line \u001b[0;32m36\u001b[0m\n\u001b[0;31m    \"Categoria Binaria\": y]\u001b[0m\n\u001b[0m                          ^\u001b[0m\n\u001b[0;31mSyntaxError\u001b[0m\u001b[0;31m:\u001b[0m invalid syntax\n"
     ]
    }
   ],
   "source": [
    "class SVM:\n",
    "    \n",
    "    def __init__(self, input_file, target, descriptors):\n",
    "        self.Data  = pd.read_csv(root+str(input_file))\n",
    "        #Muestreo\n",
    "        self.Data = pd.DataFrame.sample(self.Data, frac=0.03, replace=True,  random_state=1992, axis=None) \n",
    "        x = self.Data[self.Data[\"Library\"]== \"PPI\"]\n",
    "        print(x.Name)\n",
    "        print(self.Data.PPI.unique())\n",
    "        print(\"Libraries are: \", self.Data.Library.unique())\n",
    "        #print(\"PPI modulator: \", self.Data[target].unique())\n",
    "        print(\"Total compounds \", self.Data.shape[0])\n",
    "        self.descriptors = descriptors\n",
    "        self.target = target\n",
    "        \n",
    "    def train_model(self, fraction, kernel):\n",
    "        \"\"\"\n",
    "        fraction: float, indicates test set composition\n",
    "        kernel: str, customize kernel (see scikit learn documentation)\n",
    "        \"\"\"\n",
    "        #Binarize the output\n",
    "        y = np.revels(label_binarize(self.Data[self.target], classes=[\"No\", \"Yes\"]))\n",
    "        #y = pd.DataFrame(data = label_binarize(self.Data[self.target], classes=[\"No\", \"Yes\"]), columns = [\"Target\"])\n",
    "        print(y.Target.unique())\n",
    "        X_train, X_test, y_train, y_test = train_test_split(self.Data[self.descriptors], y, test_size = fraction, random_state=1992)\n",
    "        model = SVC(kernel = kernel)\n",
    "        print(model)\n",
    "        #print(len(X_train), len(y_train))\n",
    "        model.fit(X_train, y_train)\n",
    "        self.model = model\n",
    "        self.X_test = X_test\n",
    "        self.y_test = y_test\n",
    "        self.kernel = kernel\n",
    "        print(pd.DataFrame.from_dict({\n",
    "            \"Categoria Real\": [self.Data.PPI],\n",
    "            \"Categoria Binaria\": y]\n",
    "            }\n",
    "            ))\n",
    "        \n",
    "    def single_prediction(self, Library, Name, target):\n",
    "        compound = test_compound(self.Data, Library, Name, self.descriptors)   \n",
    "        result = test_compound_real_category(self.Data, Name, target)\n",
    "        print(\"Evaluation of \", str(Name))\n",
    "        print(\"Predicted activity value: \", str(self.model.predict(compound)))\n",
    "        print(\"Real activity value\", result)\n",
    "    \n",
    "    def metrics(self):\n",
    "        y_test = self.y_test\n",
    "        predictions = self.model.predict(self.X_test)\n",
    "        print(accuracy_score(y_test,predictions))\n",
    "        print(confusion_matrix(y_test,predictions))\n",
    "        print(roc_auc_score(y_test, predictions))\n",
    "        print(classification_report(y_test,predictions))\n",
    "        print(roc_curve(y_test, predictions))\n",
    "        #Hacer que imprima in data frame con los resultados\n",
    "\n",
    "    def report(self, ref_output):\n",
    "        Report = pd.DataFrame.from_dict(\n",
    "            {\"Method\": \"SVM\",\n",
    "            \"Kernel\": self.kernel,\n",
    "            \"descriptors\": [self.descriptors]}\n",
    "            )\n",
    "        Report.to_csv(\"SVM_\"+str(ref_output)+\".csv\", sep = \",\")"
   ]
  },
  {
   "cell_type": "code",
   "execution_count": 28,
   "metadata": {},
   "outputs": [
    {
     "name": "stdout",
     "output_type": "stream",
     "text": [
      "20365    1602\n",
      "19511     679\n",
      "19447     458\n",
      "20482    1617\n",
      "21055    1601\n",
      "20777     370\n",
      "19479     557\n",
      "19828    1595\n",
      "20519    1623\n",
      "20273    1651\n",
      "20644    1644\n",
      "20700      39\n",
      "19789    1491\n",
      "20248    1289\n",
      "19536     729\n",
      "21078    1754\n",
      "20327    1700\n",
      "19319      40\n",
      "19494     623\n",
      "20846     633\n",
      "19746    1391\n",
      "19744    1383\n",
      "20816     555\n",
      "20850     646\n",
      "21030    1437\n",
      "20212     543\n",
      "20656    1646\n",
      "19420     383\n",
      "20027    1107\n",
      "20641    1644\n",
      "20063    1318\n",
      "20910     906\n",
      "19226     813\n",
      "19408     356\n",
      "20588    1634\n",
      "19315      34\n",
      "20549    1628\n",
      "20446    1611\n",
      "20263     408\n",
      "20101    1503\n",
      "20593    1635\n",
      "20798     465\n",
      "20058    1287\n",
      "20214     549\n",
      "19388     303\n",
      "19773    1445\n",
      "20213     548\n",
      "19902     351\n",
      "19615     957\n",
      "21080    1756\n",
      "20980    1259\n",
      "20964    1173\n",
      "Name: Name, dtype: object\n",
      "['No' 'Yes']\n",
      "Libraries are:  ['Epidatabase' 'FDA' 'PPI' 'AFRODB' 'BIOFACQUIM']\n",
      "Total compounds  633\n"
     ]
    }
   ],
   "source": [
    "a = SVM(\"Dataset.csv\", \"PPI\", descriptors)"
   ]
  },
  {
   "cell_type": "code",
   "execution_count": 29,
   "metadata": {},
   "outputs": [
    {
     "name": "stdout",
     "output_type": "stream",
     "text": [
      "[0 1]\n",
      "SVC(C=1.0, cache_size=200, class_weight=None, coef0=0.0,\n",
      "    decision_function_shape='ovr', degree=3, gamma='auto_deprecated',\n",
      "    kernel='linear', max_iter=-1, probability=False, random_state=None,\n",
      "    shrinking=True, tol=0.001, verbose=False)\n"
     ]
    },
    {
     "name": "stderr",
     "output_type": "stream",
     "text": [
      "/home/barbara/anaconda3/lib/python3.7/site-packages/sklearn/utils/validation.py:724: DataConversionWarning: A column-vector y was passed when a 1d array was expected. Please change the shape of y to (n_samples, ), for example using ravel().\n",
      "  y = column_or_1d(y, warn=True)\n"
     ]
    },
    {
     "name": "stdout",
     "output_type": "stream",
     "text": [
      "                                      Categoria Real  \\\n",
      "0  10505     No\n",
      "4093      No\n",
      "2216      No\n",
      "11533  ...   \n",
      "\n",
      "                                   Categoria Binaria  \n",
      "0  0      0\n",
      "1      0\n",
      "2      0\n",
      "3      0\n",
      "4      0\n",
      "5...  \n"
     ]
    }
   ],
   "source": [
    "a.train_model(0.3, 'linear')"
   ]
  },
  {
   "cell_type": "code",
   "execution_count": 30,
   "metadata": {},
   "outputs": [
    {
     "name": "stdout",
     "output_type": "stream",
     "text": [
      "Evaluation of  679\n",
      "Predicted activity value:  [0]\n",
      "Real activity value ['Yes']\n"
     ]
    }
   ],
   "source": [
    "a.single_prediction(\"PPI\", \"679\", \"PPI\")"
   ]
  },
  {
   "cell_type": "code",
   "execution_count": 31,
   "metadata": {},
   "outputs": [
    {
     "name": "stdout",
     "output_type": "stream",
     "text": [
      "0.8789473684210526\n",
      "[[167   0]\n",
      " [ 23   0]]\n",
      "0.5\n",
      "              precision    recall  f1-score   support\n",
      "\n",
      "           0       0.88      1.00      0.94       167\n",
      "           1       0.00      0.00      0.00        23\n",
      "\n",
      "    accuracy                           0.88       190\n",
      "   macro avg       0.44      0.50      0.47       190\n",
      "weighted avg       0.77      0.88      0.82       190\n",
      "\n",
      "(array([0., 1.]), array([0., 1.]), array([1, 0]))\n"
     ]
    },
    {
     "name": "stderr",
     "output_type": "stream",
     "text": [
      "/home/barbara/anaconda3/lib/python3.7/site-packages/sklearn/metrics/classification.py:1437: UndefinedMetricWarning: Precision and F-score are ill-defined and being set to 0.0 in labels with no predicted samples.\n",
      "  'precision', 'predicted', average, warn_for)\n"
     ]
    }
   ],
   "source": [
    "a.metrics()"
   ]
  },
  {
   "cell_type": "code",
   "execution_count": 26,
   "metadata": {},
   "outputs": [],
   "source": [
    "a.report(\"MyfirstSVM\")"
   ]
  },
  {
   "cell_type": "code",
   "execution_count": 10,
   "metadata": {},
   "outputs": [],
   "source": [
    "#Identify Numerical Data (Descriptors)\n",
    "def numerical_descriptors(DataFrame):\n",
    "    print(DataFrame.select_dtypes(np.number).columns)"
   ]
  },
  {
   "cell_type": "code",
   "execution_count": null,
   "metadata": {},
   "outputs": [],
   "source": []
  }
 ],
 "metadata": {
  "kernelspec": {
   "display_name": "Python 3",
   "language": "python",
   "name": "python3"
  },
  "language_info": {
   "codemirror_mode": {
    "name": "ipython",
    "version": 3
   },
   "file_extension": ".py",
   "mimetype": "text/x-python",
   "name": "python",
   "nbconvert_exporter": "python",
   "pygments_lexer": "ipython3",
   "version": "3.7.3"
  }
 },
 "nbformat": 4,
 "nbformat_minor": 2
}
