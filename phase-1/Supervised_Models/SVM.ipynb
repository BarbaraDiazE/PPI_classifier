{
 "cells": [
  {
   "cell_type": "markdown",
   "metadata": {},
   "source": [
    "# SVM"
   ]
  },
  {
   "cell_type": "markdown",
   "metadata": {},
   "source": [
    "Objective: Build a model to predict if a single compound is a \"PPI modulator\" or is not.\n",
    "\n",
    "Data: ADME descriptors for 3 libraries.\n",
    "    Libraries:\n",
    "        AFRODB\n",
    "        Biofacquim\n",
    "        FDA\n",
    "        PPI\n",
    "        \n",
    "        \n",
    "    Endpoint: \"PPI modulator\" (Binary)\n",
    "        1 -> PPI modulator\n",
    "        0 -> Not PPI modulator\n",
    "        \n",
    "    Descriptors\n",
    "        ADME descriptors:\n",
    "            '#Aromatic heavy atoms'\n",
    "            '#H-bond acceptors'\n",
    "            '#H-bond donors'\n",
    "            '#Heavy atoms'\n",
    "             \n",
    "Method: Support Vector Machine"
   ]
  },
  {
   "cell_type": "markdown",
   "metadata": {},
   "source": [
    "## Import Libraries"
   ]
  },
  {
   "cell_type": "code",
   "execution_count": 1,
   "metadata": {},
   "outputs": [],
   "source": [
    "import pandas as pd\n",
    "import numpy as np\n",
    "import seaborn as sns\n",
    "import matplotlib.pyplot as plt\n",
    "%matplotlib inline\n",
    "\n",
    "import os\n",
    "\n",
    "from sklearn.preprocessing import label_binarize\n",
    "from sklearn.model_selection import train_test_split\n",
    "from sklearn.svm import SVC\n",
    "from sklearn.metrics import roc_curve, auc\n",
    "\n",
    "from Functions_SVM import test_compound,test_compound_real_category, svm_report, plot_roc"
   ]
  },
  {
   "cell_type": "code",
   "execution_count": 2,
   "metadata": {},
   "outputs": [],
   "source": [
    "descriptors = ['HBA', 'HBD', 'RB', 'LogP', 'TPSA', 'MW', 'Heavy Atom', 'Ring Count', 'Fraction CSP3',]\n",
    "#Falta generar los descriptores"
   ]
  },
  {
   "cell_type": "code",
   "execution_count": 3,
   "metadata": {},
   "outputs": [],
   "source": [
    "#Difacquim computer root\n",
    "root = \"/home/barbara/Documents/DIFACQUIM/PPI_classifier/phase-1/Databases/\""
   ]
  },
  {
   "cell_type": "code",
   "execution_count": 4,
   "metadata": {},
   "outputs": [],
   "source": [
    "class SVM:\n",
    "    \n",
    "    def __init__(self, input_file, target, descriptors, fraction):\n",
    "        self.Data  = pd.read_csv(root+str(input_file))\n",
    "        self.fraction = fraction\n",
    "        #Muestreo\n",
    "        self.Data = pd.DataFrame.sample(self.Data, frac=0.3, replace=True,  random_state=1992, axis=None) \n",
    "        print(self.Data.PPI.unique())\n",
    "        print(\"Libraries are: \", self.Data.Library.unique())\n",
    "        #print(\"PPI modulator: \", self.Data[target].unique())\n",
    "        print(\"Total compounds \", self.Data.shape[0])\n",
    "        self.descriptors = descriptors\n",
    "        self.target = target\n",
    "        \n",
    "    def train_model(self, kernel):\n",
    "        \"\"\"\n",
    "        fraction: float, indicates test set composition\n",
    "        kernel: str, customize kernel (see scikit learn documentation)\n",
    "        \"\"\"\n",
    "        y = np.array(self.Data[self.target])\n",
    "        print(\"y\", type(y), y.shape)\n",
    "        y = label_binarize(y, classes = [\"No\", \"Yes\"])\n",
    "        y = np.reshape(y, len(self.Data[self.target]))\n",
    "        print(\"After labelization\")\n",
    "        print(\"y\", type(y), y.shape)\n",
    "        print(\"y\", y)\n",
    "        X_train, X_test, y_train, y_test = train_test_split(self.Data[self.descriptors], y, test_size = self.fraction,random_state=1992)\n",
    "        model = SVC(kernel = kernel, probability=True, random_state=1992)\n",
    "        print(model)\n",
    "        model.fit(X_train, y_train)\n",
    "        self.model = model\n",
    "        self.X_test = X_test\n",
    "        self.y_test = y_test\n",
    "        self.kernel = kernel\n",
    "                        \n",
    "    def single_prediction(self, Library, Name, target):\n",
    "        compound = test_compound(self.Data, Library, Name, self.descriptors)   \n",
    "        result = test_compound_real_category(self.Data, Name, target)\n",
    "        print(\"Evaluation of \", str(Name))\n",
    "        print(\"Predicted activity value: \", str(self.model.predict(compound)))\n",
    "        print(\"Real activity value\", result)\n",
    "    \n",
    "    def report(self, ref_output):\n",
    "        Data = self.Data\n",
    "        predictions = self.model.predict(self.X_test)\n",
    "        y_score = self.model.decision_function(self.X_test)\n",
    "        roc_auc, roc_auc_micro = plot_roc(self.y_test, y_score)\n",
    "        r = svm_report(ref_output,Data, self.kernel,self.fraction ,self.y_test, predictions, self.descriptors, roc_auc)"
   ]
  },
  {
   "cell_type": "code",
   "execution_count": null,
   "metadata": {},
   "outputs": [],
   "source": [
    "a = SVM(\"Dataset.csv\", \"PPI\", descriptors, 0.3)"
   ]
  },
  {
   "cell_type": "code",
   "execution_count": null,
   "metadata": {},
   "outputs": [],
   "source": [
    "a.train_model('rbf')"
   ]
  },
  {
   "cell_type": "code",
   "execution_count": null,
   "metadata": {},
   "outputs": [],
   "source": [
    "a.single_prediction(\"PPI\", \"1602\", \"PPI\")"
   ]
  },
  {
   "cell_type": "code",
   "execution_count": null,
   "metadata": {},
   "outputs": [],
   "source": [
    "a.report(\"MyfirstSVM\")"
   ]
  },
  {
   "cell_type": "code",
   "execution_count": null,
   "metadata": {},
   "outputs": [],
   "source": []
  },
  {
   "cell_type": "code",
   "execution_count": null,
   "metadata": {},
   "outputs": [],
   "source": [
    "#Identify Numerical Data (Descriptors)\n",
    "def numerical_descriptors(DataFrame):\n",
    "    print(DataFrame.select_dtypes(np.number).columns)"
   ]
  },
  {
   "cell_type": "code",
   "execution_count": null,
   "metadata": {},
   "outputs": [],
   "source": []
  },
  {
   "cell_type": "code",
   "execution_count": null,
   "metadata": {},
   "outputs": [],
   "source": []
  },
  {
   "cell_type": "code",
   "execution_count": null,
   "metadata": {},
   "outputs": [],
   "source": []
  }
 ],
 "metadata": {
  "kernelspec": {
   "display_name": "Python 3",
   "language": "python",
   "name": "python3"
  },
  "language_info": {
   "codemirror_mode": {
    "name": "ipython",
    "version": 3
   },
   "file_extension": ".py",
   "mimetype": "text/x-python",
   "name": "python",
   "nbconvert_exporter": "python",
   "pygments_lexer": "ipython3",
   "version": "3.7.3"
  },
  "widgets": {
   "application/vnd.jupyter.widget-state+json": {
    "state": {},
    "version_major": 2,
    "version_minor": 0
   }
  }
 },
 "nbformat": 4,
 "nbformat_minor": 2
}
