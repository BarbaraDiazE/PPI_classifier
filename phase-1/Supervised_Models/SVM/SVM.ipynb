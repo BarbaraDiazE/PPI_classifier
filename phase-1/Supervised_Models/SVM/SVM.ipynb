{
 "cells": [
  {
   "cell_type": "markdown",
   "metadata": {},
   "source": [
    "# SVM"
   ]
  },
  {
   "cell_type": "markdown",
   "metadata": {},
   "source": [
    "Objective: Build a model to predict if a single compound is a \"PPI modulator\" or is not.\n",
    "\n",
    "Data: ADME descriptors for 3 libraries.\n",
    "    Libraries:\n",
    "        AFRODB\n",
    "        Biofacquim\n",
    "        FDA\n",
    "        PPI\n",
    "        \n",
    "        \n",
    "    Endpoint: \"PPI modulator\" (Binary)\n",
    "        1 -> PPI modulator\n",
    "        0 -> Not PPI modulator\n",
    "        \n",
    "    Descriptors\n",
    "        ADME descriptors:\n",
    "            '#Aromatic heavy atoms'\n",
    "            '#H-bond acceptors'\n",
    "            '#H-bond donors'\n",
    "            '#Heavy atoms'\n",
    "             \n",
    "Method: Support Vector Machine"
   ]
  },
  {
   "cell_type": "markdown",
   "metadata": {},
   "source": [
    "## Import Libraries"
   ]
  },
  {
   "cell_type": "code",
   "execution_count": 35,
   "metadata": {},
   "outputs": [],
   "source": [
    "import pandas as pd\n",
    "import numpy as np\n",
    "\n",
    "import os\n",
    "\n",
    "from sklearn.preprocessing import label_binarize\n",
    "from sklearn.model_selection import train_test_split\n",
    "from sklearn.svm import SVC\n",
    "\n",
    "from Functions_SVM import test_compound,test_compound_real_category, svm_report, plot_roc"
   ]
  },
  {
   "cell_type": "code",
   "execution_count": 36,
   "metadata": {},
   "outputs": [],
   "source": [
    "descriptors = ['HBA', 'HBD', 'RB', 'LogP', 'TPSA', 'MW', 'Heavy Atom', 'Ring Count', 'Fraction CSP3',]\n",
    "#Falta generar los descriptores"
   ]
  },
  {
   "cell_type": "code",
   "execution_count": 59,
   "metadata": {},
   "outputs": [],
   "source": [
    "#Difacquim computer root\n",
    "root = {\"root\": \"/home/barbara/Documents/DIFACQUIM/PPI_classifier/phase-1/Databases/\",\n",
    "        \"root_Info\" : \"/home/barbara/Documents/DIFACQUIM/PPI_classifier/phase-1/Supervised_Models/SVM/Info\",\n",
    "        \"root_ROC\" : \"/home/barbara/Documents/DIFACQUIM/PPI_classifier/phase-1/Supervised_Models/SVM/ROC\"}"
   ]
  },
  {
   "cell_type": "code",
   "execution_count": 60,
   "metadata": {},
   "outputs": [],
   "source": [
    "class SVM:\n",
    "    \n",
    "    def __init__(self, root, input_file, target, descriptors, fraction):\n",
    "        self.Data  = pd.read_csv(str(root[\"root\"]) + str(input_file))\n",
    "        #Muestreo\n",
    "        self.Data = pd.DataFrame.sample(self.Data, frac=0.3, replace=True,  random_state=1992, axis=None) \n",
    "        self.fraction = fraction\n",
    "        print(self.Data.PPI.unique())\n",
    "        print(\"Libraries are: \", self.Data.Library.unique())\n",
    "        #print(\"PPI modulator: \", self.Data[target].unique())\n",
    "        print(\"Total compounds \", self.Data.shape[0])\n",
    "        self.descriptors = descriptors\n",
    "        self.target = target\n",
    "        self.root = root\n",
    "        \n",
    "    def train_model(self, kernel, class_weight):\n",
    "        \"\"\"\n",
    "        kernel: str, ‘linear’, ‘poly’, ‘rbf’, ‘sigmoid’, ‘precomputed’ )\n",
    "        class_weight : ‘balanced’\n",
    "        \"\"\"\n",
    "        y = np.array(self.Data[self.target])\n",
    "        y = label_binarize(y, classes = [\"No\", \"Yes\"])\n",
    "        print(y)\n",
    "        X_train, X_test, y_train, y_test = train_test_split(self.Data[self.descriptors], y, test_size = self.fraction,random_state=1992)\n",
    "        model = SVC(kernel = kernel, probability=True, cache_size = 16,  class_weight =  class_weight, random_state=1992)\n",
    "        print(model)\n",
    "        model.fit(X_train, y_train)\n",
    "        self.atributes = {\n",
    "            \"kernel\" : kernel\n",
    "        }\n",
    "        print(\"support\",model.support_.shape, model.support_)\n",
    "        print(\"support_vectors_\", model.support_vectors_)\n",
    "        print(\"n_support_\", model.n_support_)\n",
    "        print(\"dual_coef_\", model.dual_coef_)\n",
    "        if kernel == \"linear\":\n",
    "            print(\"coef_\", model.coef_)\n",
    "        print(\"intercept_\", model.intercept_)\n",
    "        print(\"fit_status_\", model.fit_status_)\n",
    "        print(\"prob A\", model.probA_, \"prob B\", model.probB_)\n",
    "        self.predictions = {\n",
    "            \"predictions\": model.predict(X_test),\n",
    "            \"y_score\": model.decision_function(X_test),\n",
    "            \"X_text\": X_test,\n",
    "            \"y_test\": y_test\n",
    "        }\n",
    "        self.model = model\n",
    "        \n",
    "                        \n",
    "    def single_prediction(self, Library, Name, target):\n",
    "        compound = test_compound(self.Data, Library, Name, self.descriptors)   \n",
    "        result = test_compound_real_category(self.Data, Name, target)\n",
    "        print(\"Evaluation of \", str(Name))\n",
    "        print(\"Predicted activity value: \", str(self.model.predict(compound)))\n",
    "        print(\"Real activity value\", result)\n",
    "    \n",
    "    def report(self, ref_output):\n",
    "        roc_auc = plot_roc(ref_output,self.predictions[\"y_test\"], self.predictions[\"y_score\"], self.root[\"root_ROC\"])\n",
    "        r = svm_report(ref_output, self.Data, self.atributes[\"kernel\"], self.fraction, self.predictions[\"y_test\"], self.predictions[\"predictions\"], self.descriptors, roc_auc, self.root[\"root_Info\"])"
   ]
  },
  {
   "cell_type": "code",
   "execution_count": 61,
   "metadata": {},
   "outputs": [
    {
     "name": "stdout",
     "output_type": "stream",
     "text": [
      "['No' 'Yes']\n",
      "Libraries are:  ['Epidatabase' 'FDA' 'PPI' 'AFRODB' 'BIOFACQUIM']\n",
      "Total compounds  6325\n"
     ]
    }
   ],
   "source": [
    "a = SVM(root, \"Dataset.csv\", \"PPI\", descriptors, 0.3)"
   ]
  },
  {
   "cell_type": "code",
   "execution_count": 62,
   "metadata": {},
   "outputs": [
    {
     "name": "stdout",
     "output_type": "stream",
     "text": [
      "[[0]\n",
      " [0]\n",
      " [0]\n",
      " ...\n",
      " [0]\n",
      " [0]\n",
      " [0]]\n",
      "SVC(C=1.0, cache_size=16, class_weight='balanced', coef0=0.0,\n",
      "    decision_function_shape='ovr', degree=3, gamma='auto_deprecated',\n",
      "    kernel='rbf', max_iter=-1, probability=True, random_state=1992,\n",
      "    shrinking=True, tol=0.001, verbose=False)\n"
     ]
    },
    {
     "name": "stderr",
     "output_type": "stream",
     "text": [
      "/home/barbara/anaconda3/lib/python3.7/site-packages/sklearn/utils/validation.py:724: DataConversionWarning: A column-vector y was passed when a 1d array was expected. Please change the shape of y to (n_samples, ), for example using ravel().\n",
      "  y = column_or_1d(y, warn=True)\n",
      "/home/barbara/anaconda3/lib/python3.7/site-packages/sklearn/svm/base.py:193: FutureWarning: The default value of gamma will change from 'auto' to 'scale' in version 0.22 to account better for unscaled features. Set gamma explicitly to 'auto' or 'scale' to avoid this warning.\n",
      "  \"avoid this warning.\", FutureWarning)\n"
     ]
    },
    {
     "name": "stdout",
     "output_type": "stream",
     "text": [
      "support (3193,) [   0    3   10 ... 4383 4401 4423]\n",
      "support_vectors_ [[ 3.  0.  1. ... 14. 14. 14.]\n",
      " [ 4.  2.  7. ... 21. 21. 21.]\n",
      " [ 6.  3.  5. ... 31. 31. 31.]\n",
      " ...\n",
      " [ 3.  3.  9. ... 49. 49. 49.]\n",
      " [ 5.  1.  5. ... 26. 26. 26.]\n",
      " [ 4.  2. 11. ... 44. 44. 44.]]\n",
      "n_support_ [2860  333]\n",
      "dual_coef_ [[-0.16758951 -0.11920215 -0.10431992 ...  1.7950284   3.56911805\n",
      "   1.79497241]]\n",
      "intercept_ [-0.79529338]\n",
      "fit_status_ 0\n",
      "prob A [-2.72947104] prob B [-0.48338097]\n"
     ]
    }
   ],
   "source": [
    "a.train_model('rbf', \"balanced\")"
   ]
  },
  {
   "cell_type": "code",
   "execution_count": 63,
   "metadata": {},
   "outputs": [],
   "source": [
    "#a.single_prediction(\"PPI\", \"1602\", \"PPI\")"
   ]
  },
  {
   "cell_type": "code",
   "execution_count": 64,
   "metadata": {},
   "outputs": [
    {
     "data": {
      "image/png": "[encoded data removed]",
      "text/plain": [
       "<Figure size 432x288 with 1 Axes>"
      ]
     },
     "metadata": {
      "needs_background": "light"
     },
     "output_type": "display_data"
    },
    {
     "name": "stderr",
     "output_type": "stream",
     "text": [
      "/home/barbara/Documents/DIFACQUIM/PPI_classifier/phase-1/Supervised_Models/SVM/Functions_SVM.py:66: FutureWarning: The signature of `Series.to_csv` was aligned to that of `DataFrame.to_csv`, and argument 'header' will change its default value from False to True: please pass an explicit value to suppress this warning.\n",
      "  Report.to_csv(str(root_Info) + \"/SVM_\"+str(ref_output)+\".csv\", sep = \",\")\n"
     ]
    }
   ],
   "source": [
    "a.report(\"MyfirstSVM2\")"
   ]
  },
  {
   "cell_type": "code",
   "execution_count": null,
   "metadata": {},
   "outputs": [],
   "source": []
  },
  {
   "cell_type": "code",
   "execution_count": 9,
   "metadata": {},
   "outputs": [],
   "source": [
    "#Identify Numerical Data (Descriptors)\n",
    "def numerical_descriptors(DataFrame):\n",
    "    print(DataFrame.select_dtypes(np.number).columns)"
   ]
  },
  {
   "cell_type": "code",
   "execution_count": 10,
   "metadata": {},
   "outputs": [],
   "source": [
    "#Muestreo\n",
    "#self.Data = pd.DataFrame.sample(self.Data, frac=0.3, replace=True,  random_state=1992, axis=None) \n",
    "        "
   ]
  },
  {
   "cell_type": "code",
   "execution_count": null,
   "metadata": {},
   "outputs": [],
   "source": [
    "\n"
   ]
  },
  {
   "cell_type": "code",
   "execution_count": null,
   "metadata": {},
   "outputs": [],
   "source": []
  }
 ],
 "metadata": {
  "kernelspec": {
   "display_name": "Python 3",
   "language": "python",
   "name": "python3"
  },
  "language_info": {
   "codemirror_mode": {
    "name": "ipython",
    "version": 3
   },
   "file_extension": ".py",
   "mimetype": "text/x-python",
   "name": "python",
   "nbconvert_exporter": "python",
   "pygments_lexer": "ipython3",
   "version": "3.7.3"
  },
  "widgets": {
   "application/vnd.jupyter.widget-state+json": {
    "state": {},
    "version_major": 2,
    "version_minor": 0
   }
  }
 },
 "nbformat": 4,
 "nbformat_minor": 2
}
