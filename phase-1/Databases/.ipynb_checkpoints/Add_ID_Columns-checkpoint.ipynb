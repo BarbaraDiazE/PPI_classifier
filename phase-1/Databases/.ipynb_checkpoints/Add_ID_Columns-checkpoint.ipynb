{
 "cells": [
  {
   "cell_type": "markdown",
   "metadata": {},
   "source": [
    "Add two id columns, PPI and Epigenetic"
   ]
  },
  {
   "cell_type": "code",
   "execution_count": 1,
   "metadata": {},
   "outputs": [],
   "source": [
    "import pandas as pd"
   ]
  },
  {
   "cell_type": "code",
   "execution_count": 9,
   "metadata": {},
   "outputs": [],
   "source": [
    "def add_columns(file_name, PPI, Epigenetic):\n",
    "    Data = pd.read_csv(file_name)\n",
    "    Data[\"PPI\"] = [PPI for i in range(len(Data[\"Name\"]))]\n",
    "    Data[\"Epigenetic\"] = [Epigenetic for i in range(len(Data[\"Name\"]))]\n",
    "    Data = Data.drop( \"Unnamed: 0\", axis = 1)\n",
    "    print(Data.head())\n",
    "    Data.to_csv(file_name, sep = \",\")"
   ]
  },
  {
   "cell_type": "markdown",
   "metadata": {},
   "source": [
    "PPI database"
   ]
  },
  {
   "cell_type": "code",
   "execution_count": 10,
   "metadata": {},
   "outputs": [
    {
     "name": "stdout",
     "output_type": "stream",
     "text": [
      "<pandas.core.groupby.generic.DataFrameGroupBy object at 0x7f742225c080>\n"
     ]
    }
   ],
   "source": [
    "add_columns(\"PPI_DB.csv\")"
   ]
  },
  {
   "cell_type": "code",
   "execution_count": null,
   "metadata": {},
   "outputs": [],
   "source": []
  }
 ],
 "metadata": {
  "kernelspec": {
   "display_name": "Python 3",
   "language": "python",
   "name": "python3"
  },
  "language_info": {
   "codemirror_mode": {
    "name": "ipython",
    "version": 3
   },
   "file_extension": ".py",
   "mimetype": "text/x-python",
   "name": "python",
   "nbconvert_exporter": "python",
   "pygments_lexer": "ipython3",
   "version": "3.7.3"
  }
 },
 "nbformat": 4,
 "nbformat_minor": 2
}
