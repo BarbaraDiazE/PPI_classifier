{
 "cells": [
  {
   "cell_type": "code",
   "execution_count": 3,
   "metadata": {},
   "outputs": [
    {
     "data": {
      "text/plain": [
       "'MERGE LIBRARIES'"
      ]
     },
     "execution_count": 3,
     "metadata": {},
     "output_type": "execute_result"
    }
   ],
   "source": [
    "\"\"\"MERGE LIBRARIES\"\"\""
   ]
  },
  {
   "cell_type": "code",
   "execution_count": 4,
   "metadata": {},
   "outputs": [],
   "source": [
    "import pandas as pd\n",
    "from Generators_merge_DF import dos, tres, cuatro, cinco, seis"
   ]
  },
  {
   "cell_type": "code",
   "execution_count": null,
   "metadata": {},
   "outputs": [],
   "source": [
    "class MergeDataFrames:\n",
    "    \n",
    "    \"\"\"PARAMETERS\n",
    "    funcion, seleccionar el número de DF a pegar\n",
    "    referencia, indique un nombre para el archivo de salida\n",
    "    *archivos, el nombre de los csvs que desea pegar\"\"\"\n",
    "    \n",
    "    def merge(funcion, output_file, *archivos ): \n",
    "        frames  = funcion( *archivos)  \n",
    "        DF = pd.concat(frames)\n",
    "        #print(DF.head())\n",
    "        DF.reset_index()\n",
    "        print(\"DF shape: \", DF.shape)\n",
    "        print(DF.head())\n",
    "        DF.to_csv(str(output_file)+ \".csv\", sep = \",\")\n",
    "        print(\"Files ready\")\n"
   ]
  },
  {
   "cell_type": "code",
   "execution_count": null,
   "metadata": {},
   "outputs": [],
   "source": [
    "a = MergeDataFrames"
   ]
  },
  {
   "cell_type": "code",
   "execution_count": null,
   "metadata": {},
   "outputs": [],
   "source": [
    "a.merge(cinco,  \"Databases_CABANA\", \"AFRO_DB.csv\", \"BIOFACQUIM_DB.csv\", \"Epidatabase_DB.csv\", \"FDA_DB.csv\", \"PPI_DB.csv\")"
   ]
  },
  {
   "cell_type": "code",
   "execution_count": null,
   "metadata": {},
   "outputs": [],
   "source": [
    "#features = [\"Name\", \"SMILES\", \"Library\"]\n",
    "#Data = Data[features]"
   ]
  },
  {
   "cell_type": "code",
   "execution_count": null,
   "metadata": {},
   "outputs": [],
   "source": []
  },
  {
   "cell_type": "code",
   "execution_count": 9,
   "metadata": {},
   "outputs": [
    {
     "data": {
      "text/plain": [
       "Index(['Unnamed: 0', 'Unnamed: 0.1', 'ID Database', 'Name', 'SMILES', 'HBA',\n",
       "       'HBD', 'RB', 'LogP', 'TPSA', 'MW', 'Heavy Atom', 'Ring Count',\n",
       "       'Fraction CSP3', 'subLibrary', 'Library'],\n",
       "      dtype='object')"
      ]
     },
     "execution_count": 9,
     "metadata": {},
     "output_type": "execute_result"
    }
   ],
   "source": [
    "data = pd.read_csv(\"Databases_CABANA.csv\")\n",
    "data.columns"
   ]
  },
  {
   "cell_type": "code",
   "execution_count": 11,
   "metadata": {},
   "outputs": [
    {
     "data": {
      "text/html": [
       "<div>\n",
       "<style scoped>\n",
       "    .dataframe tbody tr th:only-of-type {\n",
       "        vertical-align: middle;\n",
       "    }\n",
       "\n",
       "    .dataframe tbody tr th {\n",
       "        vertical-align: top;\n",
       "    }\n",
       "\n",
       "    .dataframe thead th {\n",
       "        text-align: right;\n",
       "    }\n",
       "</style>\n",
       "<table border=\"1\" class=\"dataframe\">\n",
       "  <thead>\n",
       "    <tr style=\"text-align: right;\">\n",
       "      <th></th>\n",
       "      <th>ID Database</th>\n",
       "      <th>Name</th>\n",
       "      <th>SMILES</th>\n",
       "      <th>HBA</th>\n",
       "      <th>HBD</th>\n",
       "      <th>RB</th>\n",
       "      <th>LogP</th>\n",
       "      <th>TPSA</th>\n",
       "      <th>MW</th>\n",
       "      <th>Heavy Atom</th>\n",
       "      <th>Ring Count</th>\n",
       "      <th>Fraction CSP3</th>\n",
       "      <th>subLibrary</th>\n",
       "      <th>Library</th>\n",
       "    </tr>\n",
       "  </thead>\n",
       "  <tbody>\n",
       "    <tr>\n",
       "      <th>0</th>\n",
       "      <td>AfroDb.564</td>\n",
       "      <td>NPR_00036</td>\n",
       "      <td>CCCCCCCCCCCCCCCCCCCCCCCCCCCCCCCCCCCCCCCCCCC(OC...</td>\n",
       "      <td>7.0</td>\n",
       "      <td>3.0</td>\n",
       "      <td>51.0</td>\n",
       "      <td>22.4139</td>\n",
       "      <td>105.45</td>\n",
       "      <td>1194.003</td>\n",
       "      <td>85.0</td>\n",
       "      <td>85.0</td>\n",
       "      <td>85.0</td>\n",
       "      <td>AFRODB</td>\n",
       "      <td>AFRODB</td>\n",
       "    </tr>\n",
       "    <tr>\n",
       "      <th>1</th>\n",
       "      <td>AfroDb.71</td>\n",
       "      <td>ABD_UD_004</td>\n",
       "      <td>C[C@H](CCC(O[C@H](C[C@@H]([C@@H]1CC2)[C@H]3[C@...</td>\n",
       "      <td>27.0</td>\n",
       "      <td>14.0</td>\n",
       "      <td>18.0</td>\n",
       "      <td>-3.5356</td>\n",
       "      <td>418.89</td>\n",
       "      <td>1195.309</td>\n",
       "      <td>83.0</td>\n",
       "      <td>83.0</td>\n",
       "      <td>83.0</td>\n",
       "      <td>AFRODB</td>\n",
       "      <td>AFRODB</td>\n",
       "    </tr>\n",
       "    <tr>\n",
       "      <th>2</th>\n",
       "      <td>AfroDb.70</td>\n",
       "      <td>ABD_UD_003</td>\n",
       "      <td>C[C@H](CC[C@@]([C@H]1C)(OC)O[C@H](C2)[C@H]1[C@...</td>\n",
       "      <td>26.0</td>\n",
       "      <td>14.0</td>\n",
       "      <td>17.0</td>\n",
       "      <td>-2.6588</td>\n",
       "      <td>393.98</td>\n",
       "      <td>1195.353</td>\n",
       "      <td>83.0</td>\n",
       "      <td>83.0</td>\n",
       "      <td>83.0</td>\n",
       "      <td>AFRODB</td>\n",
       "      <td>AFRODB</td>\n",
       "    </tr>\n",
       "    <tr>\n",
       "      <th>3</th>\n",
       "      <td>AfroDb.937</td>\n",
       "      <td>WA_0086</td>\n",
       "      <td>COc(cc(/C=C/C(OCCCCCCCCCCCCCCCCCCCCCCCCCCCCCCC...</td>\n",
       "      <td>11.0</td>\n",
       "      <td>3.0</td>\n",
       "      <td>61.0</td>\n",
       "      <td>16.9936</td>\n",
       "      <td>201.42</td>\n",
       "      <td>1117.597</td>\n",
       "      <td>79.0</td>\n",
       "      <td>79.0</td>\n",
       "      <td>79.0</td>\n",
       "      <td>AFRODB</td>\n",
       "      <td>AFRODB</td>\n",
       "    </tr>\n",
       "    <tr>\n",
       "      <th>4</th>\n",
       "      <td>AfroDb.936</td>\n",
       "      <td>WA_0085</td>\n",
       "      <td>COc(cc(/C=C/C(OCCCCCCCCCCCCCCCCCCCCCCCCCCCCCCC...</td>\n",
       "      <td>8.0</td>\n",
       "      <td>3.0</td>\n",
       "      <td>52.0</td>\n",
       "      <td>17.0180</td>\n",
       "      <td>122.52</td>\n",
       "      <td>943.489</td>\n",
       "      <td>67.0</td>\n",
       "      <td>67.0</td>\n",
       "      <td>67.0</td>\n",
       "      <td>AFRODB</td>\n",
       "      <td>AFRODB</td>\n",
       "    </tr>\n",
       "  </tbody>\n",
       "</table>\n",
       "</div>"
      ],
      "text/plain": [
       "  ID Database        Name                                             SMILES  \\\n",
       "0  AfroDb.564   NPR_00036  CCCCCCCCCCCCCCCCCCCCCCCCCCCCCCCCCCCCCCCCCCC(OC...   \n",
       "1   AfroDb.71  ABD_UD_004  C[C@H](CCC(O[C@H](C[C@@H]([C@@H]1CC2)[C@H]3[C@...   \n",
       "2   AfroDb.70  ABD_UD_003  C[C@H](CC[C@@]([C@H]1C)(OC)O[C@H](C2)[C@H]1[C@...   \n",
       "3  AfroDb.937     WA_0086  COc(cc(/C=C/C(OCCCCCCCCCCCCCCCCCCCCCCCCCCCCCCC...   \n",
       "4  AfroDb.936     WA_0085  COc(cc(/C=C/C(OCCCCCCCCCCCCCCCCCCCCCCCCCCCCCCC...   \n",
       "\n",
       "    HBA   HBD    RB     LogP    TPSA        MW  Heavy Atom  Ring Count  \\\n",
       "0   7.0   3.0  51.0  22.4139  105.45  1194.003        85.0        85.0   \n",
       "1  27.0  14.0  18.0  -3.5356  418.89  1195.309        83.0        83.0   \n",
       "2  26.0  14.0  17.0  -2.6588  393.98  1195.353        83.0        83.0   \n",
       "3  11.0   3.0  61.0  16.9936  201.42  1117.597        79.0        79.0   \n",
       "4   8.0   3.0  52.0  17.0180  122.52   943.489        67.0        67.0   \n",
       "\n",
       "   Fraction CSP3 subLibrary Library  \n",
       "0           85.0     AFRODB  AFRODB  \n",
       "1           83.0     AFRODB  AFRODB  \n",
       "2           83.0     AFRODB  AFRODB  \n",
       "3           79.0     AFRODB  AFRODB  \n",
       "4           67.0     AFRODB  AFRODB  "
      ]
     },
     "execution_count": 11,
     "metadata": {},
     "output_type": "execute_result"
    }
   ],
   "source": [
    "data = data.drop(['Unnamed: 0', 'Unnamed: 0.1'], axis=1)\n",
    "data.head()"
   ]
  },
  {
   "cell_type": "code",
   "execution_count": 12,
   "metadata": {},
   "outputs": [],
   "source": [
    "data.to_csv(\"Databases_CABANA_2.csv\", sep = \",\")"
   ]
  },
  {
   "cell_type": "code",
   "execution_count": null,
   "metadata": {},
   "outputs": [],
   "source": []
  }
 ],
 "metadata": {
  "kernelspec": {
   "display_name": "Python 3",
   "language": "python",
   "name": "python3"
  },
  "language_info": {
   "codemirror_mode": {
    "name": "ipython",
    "version": 3
   },
   "file_extension": ".py",
   "mimetype": "text/x-python",
   "name": "python",
   "nbconvert_exporter": "python",
   "pygments_lexer": "ipython3",
   "version": "3.6.5"
  }
 },
 "nbformat": 4,
 "nbformat_minor": 2
}
