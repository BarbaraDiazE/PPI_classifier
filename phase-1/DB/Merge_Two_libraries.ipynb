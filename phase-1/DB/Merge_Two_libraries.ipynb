{
 "cells": [
  {
   "cell_type": "code",
   "execution_count": 1,
   "metadata": {},
   "outputs": [],
   "source": [
    "import pandas as pd"
   ]
  },
  {
   "cell_type": "code",
   "execution_count": 23,
   "metadata": {},
   "outputs": [],
   "source": [
    "FDA = pd.read_csv(\"FDA_DB.csv\")\n",
    "Biofacquim = pd.read_csv(\"BIOFACQUIM_DB.csv\")"
   ]
  },
  {
   "cell_type": "code",
   "execution_count": 28,
   "metadata": {},
   "outputs": [],
   "source": [
    "Frames = [FDA, Biofacquim]\n",
    "Data = pd.concat(Frames)"
   ]
  },
  {
   "cell_type": "code",
   "execution_count": 30,
   "metadata": {},
   "outputs": [
    {
     "data": {
      "text/plain": [
       "(2115, 15)"
      ]
     },
     "execution_count": 30,
     "metadata": {},
     "output_type": "execute_result"
    }
   ],
   "source": [
    "Data.reset_index()\n",
    "Data.shape"
   ]
  },
  {
   "cell_type": "code",
   "execution_count": 32,
   "metadata": {},
   "outputs": [],
   "source": [
    "features = [\"Name\", \"SMILES\", \"Library\"]\n",
    "Data = Data[features]"
   ]
  },
  {
   "cell_type": "code",
   "execution_count": 33,
   "metadata": {},
   "outputs": [
    {
     "data": {
      "text/html": [
       "<div>\n",
       "<style scoped>\n",
       "    .dataframe tbody tr th:only-of-type {\n",
       "        vertical-align: middle;\n",
       "    }\n",
       "\n",
       "    .dataframe tbody tr th {\n",
       "        vertical-align: top;\n",
       "    }\n",
       "\n",
       "    .dataframe thead th {\n",
       "        text-align: right;\n",
       "    }\n",
       "</style>\n",
       "<table border=\"1\" class=\"dataframe\">\n",
       "  <thead>\n",
       "    <tr style=\"text-align: right;\">\n",
       "      <th></th>\n",
       "      <th>Name</th>\n",
       "      <th>SMILES</th>\n",
       "      <th>Library</th>\n",
       "    </tr>\n",
       "  </thead>\n",
       "  <tbody>\n",
       "    <tr>\n",
       "      <th>0</th>\n",
       "      <td>Acetarsol</td>\n",
       "      <td>CC(=O)Nc1cc(ccc1O)[As](=O)(O)O</td>\n",
       "      <td>FDA</td>\n",
       "    </tr>\n",
       "    <tr>\n",
       "      <th>1</th>\n",
       "      <td>Auranofin</td>\n",
       "      <td>CC[P]([Au]SC1OC(COC(=O)C)C(C(C1OC(=O)C)OC(=O)C...</td>\n",
       "      <td>FDA</td>\n",
       "    </tr>\n",
       "    <tr>\n",
       "      <th>2</th>\n",
       "      <td>Bortezomib</td>\n",
       "      <td>CC(CC(B(O)O)NC(=O)C(NC(=O)c1cnccn1)Cc1ccccc1)C</td>\n",
       "      <td>FDA</td>\n",
       "    </tr>\n",
       "    <tr>\n",
       "      <th>3</th>\n",
       "      <td>Chlormerodrin</td>\n",
       "      <td>COC(C[Hg]Cl)CNC(=O)N</td>\n",
       "      <td>FDA</td>\n",
       "    </tr>\n",
       "    <tr>\n",
       "      <th>4</th>\n",
       "      <td>Chromium picolinate</td>\n",
       "      <td>O=C(c1ccccn1)O[Cr](OC(=O)c1ccccn1)OC(=O)c1ccccn1</td>\n",
       "      <td>FDA</td>\n",
       "    </tr>\n",
       "  </tbody>\n",
       "</table>\n",
       "</div>"
      ],
      "text/plain": [
       "                  Name                                             SMILES  \\\n",
       "0            Acetarsol                     CC(=O)Nc1cc(ccc1O)[As](=O)(O)O   \n",
       "1            Auranofin  CC[P]([Au]SC1OC(COC(=O)C)C(C(C1OC(=O)C)OC(=O)C...   \n",
       "2           Bortezomib     CC(CC(B(O)O)NC(=O)C(NC(=O)c1cnccn1)Cc1ccccc1)C   \n",
       "3        Chlormerodrin                               COC(C[Hg]Cl)CNC(=O)N   \n",
       "4  Chromium picolinate   O=C(c1ccccn1)O[Cr](OC(=O)c1ccccn1)OC(=O)c1ccccn1   \n",
       "\n",
       "  Library  \n",
       "0     FDA  \n",
       "1     FDA  \n",
       "2     FDA  \n",
       "3     FDA  \n",
       "4     FDA  "
      ]
     },
     "execution_count": 33,
     "metadata": {},
     "output_type": "execute_result"
    }
   ],
   "source": [
    "Data.head()"
   ]
  },
  {
   "cell_type": "code",
   "execution_count": 34,
   "metadata": {},
   "outputs": [],
   "source": [
    "Data.to_csv(\"Database_CABANA.csv\", sep = \",\")"
   ]
  },
  {
   "cell_type": "code",
   "execution_count": null,
   "metadata": {},
   "outputs": [],
   "source": []
  }
 ],
 "metadata": {
  "kernelspec": {
   "display_name": "Python 3",
   "language": "python",
   "name": "python3"
  },
  "language_info": {
   "codemirror_mode": {
    "name": "ipython",
    "version": 3
   },
   "file_extension": ".py",
   "mimetype": "text/x-python",
   "name": "python",
   "nbconvert_exporter": "python",
   "pygments_lexer": "ipython3",
   "version": "3.6.5"
  }
 },
 "nbformat": 4,
 "nbformat_minor": 2
}
