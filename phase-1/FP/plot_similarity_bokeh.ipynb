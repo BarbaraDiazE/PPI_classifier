{
 "cells": [
  {
   "cell_type": "markdown",
   "metadata": {
    "collapsed": true
   },
   "source": [
    "\"\"\"\n",
    "Compute FP\n",
    "\"\"\""
   ]
  },
  {
   "cell_type": "code",
   "execution_count": 1,
   "metadata": {},
   "outputs": [],
   "source": [
    "import rdkit\n",
    "from rdkit import Chem, DataStructs\n",
    "#from rdkit.Chem import AllChem, Descriptors"
   ]
  },
  {
   "cell_type": "code",
   "execution_count": 2,
   "metadata": {},
   "outputs": [],
   "source": [
    "# from rdkit.Chem.Draw import IPythonConsole\n",
    "# from rdkit.Chem import Draw\n",
    "# IPythonConsole.ipython_useSVG=True"
   ]
  },
  {
   "cell_type": "code",
   "execution_count": 3,
   "metadata": {},
   "outputs": [],
   "source": [
    "import numpy as np\n",
    "import pandas as pd\n",
    "\n",
    "from bokeh.io import  show, output_file\n",
    "from bokeh.models import ColumnDataSource, LassoSelectTool, ZoomInTool, ZoomOutTool, SaveTool, HoverTool,PanTool, Legend\n",
    "from bokeh.plotting import figure\n",
    "from bokeh.core.enums import LegendLocation\n",
    "\n",
    "from compute_fp.compute_Morgan2 import morgan2_fp"
   ]
  },
  {
   "cell_type": "code",
   "execution_count": 4,
   "metadata": {},
   "outputs": [],
   "source": [
    "root = {\"root\": \"/home/babs/Documents/DIFACQUIM/PPI_classifier/phase-1/Databases/\",\n",
    "        \"morgan2\":\"/home/babs/Documents/DIFACQUIM/PPI_classifier/phase-1/Databases/morgan2/\",\n",
    "        \"morgan3\": \"/home/babs/Documents/DIFACQUIM/PPI_classifier/phase-1/Databases/morgan3/\",\n",
    "        \"maccskeys\":\"/home/babs/Documents/DIFACQUIM/PPI_classifier/phase-1/Databases/maccskeys/\",\n",
    "        \"atom\": \"/home/babs/Documents/DIFACQUIM/PPI_classifier/phase-1/Databases/atom\"}"
   ]
  },
  {
   "cell_type": "code",
   "execution_count": 5,
   "metadata": {},
   "outputs": [],
   "source": [
    "class PlotSim:\n",
    "\n",
    "    def __init__(self, input_file):\n",
    "        Data  = pd.read_csv(str(root[\"root\"]) + str(input_file))\n",
    "        self.Data = Data\n",
    "        self.Data = pd.DataFrame.sample(self.Data, frac=0.5, replace=True,  random_state=1992, axis=None) \n",
    "        print(self.Data.columns)\n",
    "        print(self.Data.Library.unique())\n",
    "        \n",
    "    def column_source(self, Library, fp_func):\n",
    "        df = self.Data[self.Data[\"Library\"] == Library]\n",
    "        sim, y, df = fp_func(df.SMILES.to_list(), Library)\n",
    "        return ColumnDataSource(dict(x=sim, y=y)), df\n",
    "    \n",
    "    def plot(self, source1, source2, source3, source4, source5):\n",
    "        hover = HoverTool(tooltips = [\n",
    "            (\"Similarity\",\"($x)\"),\n",
    "            (\"ECF\",\"($y)\"),\n",
    "            ])\n",
    "        p = figure(title = \" \",\n",
    "                x_axis_label = \"Similarity\", y_axis_label=\"Cumulative Distribution Function\",\n",
    "                x_range = (0,1), y_range = (0,1), tools=[hover], plot_width = 1000, plot_height = 800)\n",
    "        FDA = p.line(x = \"x\", y = \"y\", source = source1, line_width = 3, color=(83,99,111))\n",
    "        PPI = p.line(x = \"x\", y = \"y\", source = source2, line_width = 3,  color=(69,204,194))\n",
    "        BIOFAC = p.line(x = \"x\", y = \"y\", source = source3, line_width = 3, color=(50, 205, 50) )\n",
    "        EPI = p.line(x = \"x\", y = \"y\", source = source4, line_width = 3, color=(245,105,110))\n",
    "        AFRO = p.line(x = \"x\", y = \"y\", source = source5, line_width = 3, color=(203,78,90))\n",
    "        legend = Legend(items=[\n",
    "            (\"FDA\", [FDA]),\n",
    "            (\"PPI\", [PPI]),\n",
    "            (\"BIOFACQUIM\", [BIOFAC]),\n",
    "            (\"EPIDATABASE\", [EPI]),\n",
    "            (\"AFRO\", [AFRO]),\n",
    "            ], location = \"center\", orientation = \"vertical\", click_policy = \"hide\" )\n",
    "        p.add_tools(LassoSelectTool(), ZoomInTool(), ZoomOutTool(), SaveTool(), PanTool())\n",
    "        p.add_layout(legend, place = 'right')\n",
    "        p.xaxis.axis_label_text_font_size = \"20pt\"\n",
    "        p.yaxis.axis_label_text_font_size = \"20pt\"\n",
    "        p.xaxis.axis_label_text_color = \"black\"\n",
    "        p.yaxis.axis_label_text_color = \"black\"\n",
    "        p.xaxis.major_label_text_font_size = \"18pt\"\n",
    "        p.yaxis.major_label_text_font_size = \"18pt\"\n",
    "        p.title.text_font_size = \"22pt\"\n",
    "        show(p)\n",
    "    \n",
    "    def resolve(self, fp_func):\n",
    "        source1, df1 = self.column_source(\"FDA\",  fp_func)\n",
    "        source2, df2 = self.column_source(\"PPI\",  fp_func)\n",
    "        source3, df3 = self.column_source(\"BIOFACQUIM\", fp_func)\n",
    "        source4,  df4 = self.column_source(\"Epidatabase\", fp_func)\n",
    "        source5, df5 = self.column_source(\"AFRODB\", fp_func)\n",
    "        frames = [df1, df2, df3, df4, df5]\n",
    "        #DF = pd.concat(frames, axis = 0)\n",
    "        #DF.set_index(\"Library\")\n",
    "        #print(DF)\n",
    "        #r = str(fp_func.__name__)\n",
    "        #r = r.replace('_fp','')\n",
    "        #print(r)\n",
    "        #DF.to_csv(str(root[r]) + \"_stats_\" + str(r) + \".csv\", sep = \",\"        )\n",
    "        self.plot(source1, source2, source3, source4, source5)\n"
   ]
  },
  {
   "cell_type": "code",
   "execution_count": 6,
   "metadata": {},
   "outputs": [
    {
     "name": "stdout",
     "output_type": "stream",
     "text": [
      "Index(['Unnamed: 0', 'ID Database', 'Name', 'SMILES', 'HBA', 'HBD', 'RB',\n",
      "       'LogP', 'TPSA', 'MW', 'Heavy Atom', 'Ring Count', 'Fraction CSP3',\n",
      "       'subLibrary', 'Library', 'PPI', 'Epigenetic'],\n",
      "      dtype='object')\n",
      "['EPIDATABASE' 'FDA' 'PPI' 'AFRODB' 'BIOFACQUIM']\n"
     ]
    }
   ],
   "source": [
    "a = PlotSim(\"Dataset.csv\")"
   ]
  },
  {
   "cell_type": "code",
   "execution_count": 8,
   "metadata": {},
   "outputs": [
    {
     "ename": "NameError",
     "evalue": "name 'N' is not defined",
     "output_type": "error",
     "traceback": [
      "\u001b[0;31m---------------------------------------------------------------------------\u001b[0m",
      "\u001b[0;31mNameError\u001b[0m                                 Traceback (most recent call last)",
      "\u001b[0;32m<ipython-input-8-2abbe5ba950d>\u001b[0m in \u001b[0;36m<module>\u001b[0;34m\u001b[0m\n\u001b[0;32m----> 1\u001b[0;31m \u001b[0ma\u001b[0m\u001b[0;34m.\u001b[0m\u001b[0mresolve\u001b[0m\u001b[0;34m(\u001b[0m\u001b[0mmorgan2_fp\u001b[0m\u001b[0;34m)\u001b[0m\u001b[0;34m\u001b[0m\u001b[0m\n\u001b[0m",
      "\u001b[0;32m<ipython-input-5-fda198ea3e02>\u001b[0m in \u001b[0;36mresolve\u001b[0;34m(self, fp_func)\u001b[0m\n\u001b[1;32m     45\u001b[0m \u001b[0;34m\u001b[0m\u001b[0m\n\u001b[1;32m     46\u001b[0m     \u001b[0;32mdef\u001b[0m \u001b[0mresolve\u001b[0m\u001b[0;34m(\u001b[0m\u001b[0mself\u001b[0m\u001b[0;34m,\u001b[0m \u001b[0mfp_func\u001b[0m\u001b[0;34m)\u001b[0m\u001b[0;34m:\u001b[0m\u001b[0;34m\u001b[0m\u001b[0m\n\u001b[0;32m---> 47\u001b[0;31m         \u001b[0msource1\u001b[0m\u001b[0;34m,\u001b[0m \u001b[0mdf1\u001b[0m \u001b[0;34m=\u001b[0m \u001b[0mself\u001b[0m\u001b[0;34m.\u001b[0m\u001b[0mcolumn_source\u001b[0m\u001b[0;34m(\u001b[0m\u001b[0;34m\"FDA\"\u001b[0m\u001b[0;34m,\u001b[0m  \u001b[0mfp_func\u001b[0m\u001b[0;34m)\u001b[0m\u001b[0;34m\u001b[0m\u001b[0m\n\u001b[0m\u001b[1;32m     48\u001b[0m         \u001b[0msource2\u001b[0m\u001b[0;34m,\u001b[0m \u001b[0mdf2\u001b[0m \u001b[0;34m=\u001b[0m \u001b[0mself\u001b[0m\u001b[0;34m.\u001b[0m\u001b[0mcolumn_source\u001b[0m\u001b[0;34m(\u001b[0m\u001b[0;34m\"PPI\"\u001b[0m\u001b[0;34m,\u001b[0m  \u001b[0mfp_func\u001b[0m\u001b[0;34m)\u001b[0m\u001b[0;34m\u001b[0m\u001b[0m\n\u001b[1;32m     49\u001b[0m         \u001b[0msource3\u001b[0m\u001b[0;34m,\u001b[0m \u001b[0mdf3\u001b[0m \u001b[0;34m=\u001b[0m \u001b[0mself\u001b[0m\u001b[0;34m.\u001b[0m\u001b[0mcolumn_source\u001b[0m\u001b[0;34m(\u001b[0m\u001b[0;34m\"BIOFACQUIM\"\u001b[0m\u001b[0;34m,\u001b[0m \u001b[0mfp_func\u001b[0m\u001b[0;34m)\u001b[0m\u001b[0;34m\u001b[0m\u001b[0m\n",
      "\u001b[0;32m<ipython-input-5-fda198ea3e02>\u001b[0m in \u001b[0;36mcolumn_source\u001b[0;34m(self, Library, fp_func)\u001b[0m\n\u001b[1;32m     10\u001b[0m     \u001b[0;32mdef\u001b[0m \u001b[0mcolumn_source\u001b[0m\u001b[0;34m(\u001b[0m\u001b[0mself\u001b[0m\u001b[0;34m,\u001b[0m \u001b[0mLibrary\u001b[0m\u001b[0;34m,\u001b[0m \u001b[0mfp_func\u001b[0m\u001b[0;34m)\u001b[0m\u001b[0;34m:\u001b[0m\u001b[0;34m\u001b[0m\u001b[0m\n\u001b[1;32m     11\u001b[0m         \u001b[0mdf\u001b[0m \u001b[0;34m=\u001b[0m \u001b[0mself\u001b[0m\u001b[0;34m.\u001b[0m\u001b[0mData\u001b[0m\u001b[0;34m[\u001b[0m\u001b[0mself\u001b[0m\u001b[0;34m.\u001b[0m\u001b[0mData\u001b[0m\u001b[0;34m[\u001b[0m\u001b[0;34m\"Library\"\u001b[0m\u001b[0;34m]\u001b[0m \u001b[0;34m==\u001b[0m \u001b[0mLibrary\u001b[0m\u001b[0;34m]\u001b[0m\u001b[0;34m\u001b[0m\u001b[0m\n\u001b[0;32m---> 12\u001b[0;31m         \u001b[0msim\u001b[0m\u001b[0;34m,\u001b[0m \u001b[0my\u001b[0m\u001b[0;34m,\u001b[0m \u001b[0mdf\u001b[0m \u001b[0;34m=\u001b[0m \u001b[0mfp_func\u001b[0m\u001b[0;34m(\u001b[0m\u001b[0mdf\u001b[0m\u001b[0;34m.\u001b[0m\u001b[0mSMILES\u001b[0m\u001b[0;34m.\u001b[0m\u001b[0mto_list\u001b[0m\u001b[0;34m(\u001b[0m\u001b[0;34m)\u001b[0m\u001b[0;34m,\u001b[0m \u001b[0mLibrary\u001b[0m\u001b[0;34m)\u001b[0m\u001b[0;34m\u001b[0m\u001b[0m\n\u001b[0m\u001b[1;32m     13\u001b[0m         \u001b[0;32mreturn\u001b[0m \u001b[0mColumnDataSource\u001b[0m\u001b[0;34m(\u001b[0m\u001b[0mdict\u001b[0m\u001b[0;34m(\u001b[0m\u001b[0mx\u001b[0m\u001b[0;34m=\u001b[0m\u001b[0msim\u001b[0m\u001b[0;34m,\u001b[0m \u001b[0my\u001b[0m\u001b[0;34m=\u001b[0m\u001b[0my\u001b[0m\u001b[0;34m)\u001b[0m\u001b[0;34m)\u001b[0m\u001b[0;34m,\u001b[0m \u001b[0mdf\u001b[0m\u001b[0;34m\u001b[0m\u001b[0m\n\u001b[1;32m     14\u001b[0m \u001b[0;34m\u001b[0m\u001b[0m\n",
      "\u001b[0;32m~/Documents/DIFACQUIM/PPI_classifier/phase-1/FP/compute_fp/compute_Morgan2.py\u001b[0m in \u001b[0;36mmorgan2_fp\u001b[0;34m(SMILES, Library)\u001b[0m\n\u001b[1;32m     17\u001b[0m         \u001b[0mrandom\u001b[0m\u001b[0;34m.\u001b[0m\u001b[0mseed\u001b[0m\u001b[0;34m(\u001b[0m\u001b[0;36m43\u001b[0m\u001b[0;34m)\u001b[0m\u001b[0;34m\u001b[0m\u001b[0m\n\u001b[1;32m     18\u001b[0m         \u001b[0mSMILES\u001b[0m \u001b[0;34m=\u001b[0m\u001b[0mround\u001b[0m\u001b[0;34m(\u001b[0m\u001b[0mlen\u001b[0m\u001b[0;34m(\u001b[0m\u001b[0mSMILES\u001b[0m\u001b[0;34m)\u001b[0m\u001b[0;34m*\u001b[0m\u001b[0;36m.1\u001b[0m\u001b[0;34m)\u001b[0m\u001b[0;34m\u001b[0m\u001b[0m\n\u001b[0;32m---> 19\u001b[0;31m         \u001b[0mSMILES\u001b[0m \u001b[0;34m=\u001b[0m \u001b[0mrandom\u001b[0m\u001b[0;34m.\u001b[0m\u001b[0msample\u001b[0m\u001b[0;34m(\u001b[0m\u001b[0mSMILES\u001b[0m\u001b[0;34m,\u001b[0m\u001b[0mN\u001b[0m\u001b[0;34m)\u001b[0m\u001b[0;34m\u001b[0m\u001b[0m\n\u001b[0m\u001b[1;32m     20\u001b[0m         \u001b[0mms\u001b[0m\u001b[0;34m=\u001b[0m\u001b[0;34m[\u001b[0m\u001b[0mChem\u001b[0m\u001b[0;34m.\u001b[0m\u001b[0mMolFromSmiles\u001b[0m\u001b[0;34m(\u001b[0m\u001b[0mi\u001b[0m\u001b[0;34m)\u001b[0m \u001b[0;32mfor\u001b[0m \u001b[0mi\u001b[0m \u001b[0;32min\u001b[0m \u001b[0mSMILES\u001b[0m\u001b[0;34m]\u001b[0m\u001b[0;34m\u001b[0m\u001b[0m\n\u001b[1;32m     21\u001b[0m         \u001b[0mfps_Morgan\u001b[0m \u001b[0;34m=\u001b[0m \u001b[0;34m[\u001b[0m\u001b[0mAllChem\u001b[0m\u001b[0;34m.\u001b[0m\u001b[0mGetMorganFingerprintAsBitVect\u001b[0m\u001b[0;34m(\u001b[0m\u001b[0mx\u001b[0m\u001b[0;34m,\u001b[0m\u001b[0;36m2\u001b[0m\u001b[0;34m)\u001b[0m \u001b[0;32mfor\u001b[0m \u001b[0mx\u001b[0m \u001b[0;32min\u001b[0m \u001b[0mms\u001b[0m\u001b[0;34m]\u001b[0m\u001b[0;34m\u001b[0m\u001b[0m\n",
      "\u001b[0;31mNameError\u001b[0m: name 'N' is not defined"
     ]
    }
   ],
   "source": [
    "a.resolve(morgan2_fp)\n"
   ]
  },
  {
   "cell_type": "code",
   "execution_count": null,
   "metadata": {},
   "outputs": [],
   "source": []
  },
  {
   "cell_type": "code",
   "execution_count": null,
   "metadata": {},
   "outputs": [],
   "source": []
  }
 ],
 "metadata": {
  "file_extension": ".py",
  "kernelspec": {
   "display_name": "Python 3",
   "language": "python",
   "name": "python3"
  },
  "language_info": {
   "codemirror_mode": {
    "name": "ipython",
    "version": 3
   },
   "file_extension": ".py",
   "mimetype": "text/x-python",
   "name": "python",
   "nbconvert_exporter": "python",
   "pygments_lexer": "ipython3",
   "version": "3.6.5"
  },
  "mimetype": "text/x-python",
  "name": "python",
  "npconvert_exporter": "python",
  "pygments_lexer": "ipython3",
  "version": 3
 },
 "nbformat": 4,
 "nbformat_minor": 2
}
