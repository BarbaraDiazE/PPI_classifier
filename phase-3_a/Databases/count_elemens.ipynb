{
 "cells": [
  {
   "cell_type": "markdown",
   "metadata": {},
   "source": [
    "\"Count PPIs subfamilies\""
   ]
  },
  {
   "cell_type": "code",
   "execution_count": 1,
   "metadata": {},
   "outputs": [],
   "source": [
    "import pandas as pd"
   ]
  },
  {
   "cell_type": "code",
   "execution_count": 2,
   "metadata": {},
   "outputs": [],
   "source": [
    "root = {\n",
    "    \"root\": \"/home/babs/Documents/DIFACQUIM/PPI_classifier/phase-3_a/Databases/\",\n",
    "}"
   ]
  },
  {
   "cell_type": "code",
   "execution_count": 5,
   "metadata": {},
   "outputs": [],
   "source": [
    "def read_csv(input_file):\n",
    "    Data = pd.read_csv(f'{root[\"root\"]}{input_file}', \n",
    "                       index_col = \"Unnamed: 0\", low_memory=False)\n",
    "    print(\"Elements: \", Data.shape[0])\n",
    "    print(Data.groupby(\"library\").size())\n",
    "    #print(Data.head())\n",
    "    #Data.to_csv(file_name, sep = \",\")"
   ]
  },
  {
   "cell_type": "code",
   "execution_count": 6,
   "metadata": {},
   "outputs": [
    {
     "name": "stdout",
     "output_type": "stream",
     "text": [
      "Elements:  4630\n",
      "library\n",
      "FDA    2403\n",
      "PPI    2227\n",
      "dtype: int64\n"
     ]
    }
   ],
   "source": [
    "read_csv(\"dataset_descriptors_p2.csv\")"
   ]
  },
  {
   "cell_type": "markdown",
   "metadata": {},
   "source": [
    "Epidatabase"
   ]
  },
  {
   "cell_type": "code",
   "execution_count": null,
   "metadata": {},
   "outputs": [],
   "source": [
    "read_csv(\"Epidatabase_DB.csv\")"
   ]
  },
  {
   "cell_type": "code",
   "execution_count": 11,
   "metadata": {},
   "outputs": [],
   "source": [
    "def count_elements(input_file, Library):\n",
    "    Data = pd.read_csv(f'{root[\"root\"]}{input_file}', \n",
    "                       index_col = \"Unnamed: 0\", low_memory=False)\n",
    "    Data = Data[Data[\"library\"] == Library]\n",
    "    print(\"Number of subfamilies\", len(Data[\"PPI family\"].unique()))\n",
    "    count = Data.groupby(\"PPI family\").size()\n",
    "    print(count)\n",
    "    count.to_csv(\"ppisubfamilies.csv\", sep = \",\")"
   ]
  },
  {
   "cell_type": "code",
   "execution_count": 12,
   "metadata": {},
   "outputs": [
    {
     "name": "stdout",
     "output_type": "stream",
     "text": [
      "Number of subfamilies 28\n",
      "PPI family\n",
      "BCL2-Like / BAX                     326\n",
      "Bromodomain / Histone               277\n",
      "CD4 / gp120                         119\n",
      "CD80 / CD28                          73\n",
      "E2 / E1                              10\n",
      "FAK / VEGFR3                          2\n",
      "IL2 / IL2R                           18\n",
      "LEDGF / IN                           74\n",
      "LFA / ICAM                          277\n",
      "MDM2-Like / P53                     551\n",
      "MDM2-Like / P53, MDM2-like dimer      2\n",
      "MDM2-like dimer                       2\n",
      "MENIN / MLL                          20\n",
      "MLLT1 / H3                           19\n",
      "Myc / Max                            16\n",
      "NRP / VEGF                            6\n",
      "PCNA trimer                          10\n",
      "Pygo PHD / H3                         8\n",
      "SETDB1 / H3                           8\n",
      "SPIN1 / H3                           26\n",
      "TNF trimer                            1\n",
      "TTR                                  50\n",
      "UPAR / UPA                            5\n",
      "VEGF / VEGFR                          4\n",
      "VHL / HIF1α                          16\n",
      "WD40 / H3                             7\n",
      "WDR5/MLL                             28\n",
      "XIAP / Smac                         272\n",
      "dtype: int64\n"
     ]
    },
    {
     "name": "stderr",
     "output_type": "stream",
     "text": [
      "/home/babs/anaconda3/lib/python3.7/site-packages/ipykernel_launcher.py:8: FutureWarning: The signature of `Series.to_csv` was aligned to that of `DataFrame.to_csv`, and argument 'header' will change its default value from False to True: please pass an explicit value to suppress this warning.\n",
      "  \n"
     ]
    }
   ],
   "source": [
    "count_elements(\"dataset_descriptors_p2.csv\", \"PPI\")"
   ]
  },
  {
   "cell_type": "code",
   "execution_count": null,
   "metadata": {},
   "outputs": [],
   "source": []
  }
 ],
 "metadata": {
  "kernelspec": {
   "display_name": "Python 3",
   "language": "python",
   "name": "python3"
  },
  "language_info": {
   "codemirror_mode": {
    "name": "ipython",
    "version": 3
   },
   "file_extension": ".py",
   "mimetype": "text/x-python",
   "name": "python",
   "nbconvert_exporter": "python",
   "pygments_lexer": "ipython3",
   "version": "3.7.3"
  }
 },
 "nbformat": 4,
 "nbformat_minor": 2
}
