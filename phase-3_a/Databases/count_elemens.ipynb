{
 "cells": [
  {
   "cell_type": "markdown",
   "metadata": {},
   "source": [
    "Add two id columns, PPI and Epigenetic"
   ]
  },
  {
   "cell_type": "code",
   "execution_count": 1,
   "metadata": {},
   "outputs": [],
   "source": [
    "import pandas as pd"
   ]
  },
  {
   "cell_type": "code",
   "execution_count": 2,
   "metadata": {},
   "outputs": [],
   "source": [
    "def read_csv(file_name):\n",
    "    Data = pd.read_csv(file_name)\n",
    "    Data = Data.drop(\"Unnamed: 0\", axis = 1)\n",
    "    print(\"Elements: \", Data.shape[0])\n",
    "    #print(Data.groupby(\"subLibrary\").count())\n",
    "    print(Data.groupby(\"subLibrary\").size())\n",
    "    #print(Data.head())\n",
    "    #Data.to_csv(file_name, sep = \",\")"
   ]
  },
  {
   "cell_type": "code",
   "execution_count": 3,
   "metadata": {},
   "outputs": [
    {
     "name": "stdout",
     "output_type": "stream",
     "text": [
      "Elements:  1913\n",
      "subLibrary\n",
      "BCL2-Like              527\n",
      "Bromodomain/Histone    303\n",
      "CD4/gp120              122\n",
      "CD80/CD28               73\n",
      "E2/E1                   11\n",
      "FAK/VEGFR3               6\n",
      "IL2/IL2R                24\n",
      "LEDGF/IN                78\n",
      "LFA/ICAM               277\n",
      "MDM2-Like/P53           26\n",
      "MENIN/MLL               26\n",
      "Myc/Max                  8\n",
      "NRP/VEGF                 8\n",
      "TCF-4                   40\n",
      "UPAR/UPA                12\n",
      "VEGF/VEGFR               5\n",
      "XIAP/Smac              366\n",
      "ZipA\f",
      "tsZ                 1\n",
      "dtype: int64\n"
     ]
    }
   ],
   "source": [
    "read_csv(\"PPI_DB.csv\")"
   ]
  },
  {
   "cell_type": "markdown",
   "metadata": {},
   "source": [
    "Epidatabase"
   ]
  },
  {
   "cell_type": "code",
   "execution_count": 51,
   "metadata": {},
   "outputs": [
    {
     "name": "stdout",
     "output_type": "stream",
     "text": [
      "Elements:  16102\n",
      "subLibrary\n",
      "DNA               335\n",
      "histone         15478\n",
      "histone, DNA      289\n",
      "dtype: int64\n"
     ]
    }
   ],
   "source": [
    "read_csv(\"Epidatabase_DB.csv\")"
   ]
  },
  {
   "cell_type": "code",
   "execution_count": 6,
   "metadata": {},
   "outputs": [],
   "source": [
    "def count_elements(file_name):\n",
    "    Data = pd.read_csv(file_name)\n",
    "    Data = Data.drop(\"Unnamed: 0\", axis = 1)\n",
    "    print(\"Elements: \", Data.shape[0])\n",
    "    #print(Data.groupby(\"subLibrary\").count())\n",
    "    count = Data.groupby(\"subLibrary\").size()\n",
    "    print(count)\n",
    "    count.to_csv(\"targets_and_compounds.csv\", sep = \",\")"
   ]
  },
  {
   "cell_type": "code",
   "execution_count": 7,
   "metadata": {},
   "outputs": [
    {
     "name": "stdout",
     "output_type": "stream",
     "text": [
      "Elements:  1913\n",
      "subLibrary\n",
      "BCL2-Like              527\n",
      "Bromodomain/Histone    303\n",
      "CD4/gp120              122\n",
      "CD80/CD28               73\n",
      "E2/E1                   11\n",
      "FAK/VEGFR3               6\n",
      "IL2/IL2R                24\n",
      "LEDGF/IN                78\n",
      "LFA/ICAM               277\n",
      "MDM2-Like/P53           26\n",
      "MENIN/MLL               26\n",
      "Myc/Max                  8\n",
      "NRP/VEGF                 8\n",
      "TCF-4                   40\n",
      "UPAR/UPA                12\n",
      "VEGF/VEGFR               5\n",
      "XIAP/Smac              366\n",
      "ZipA\f",
      "tsZ                 1\n",
      "dtype: int64\n"
     ]
    }
   ],
   "source": [
    "count_elements(\"PPI_DB.csv\")"
   ]
  },
  {
   "cell_type": "code",
   "execution_count": null,
   "metadata": {},
   "outputs": [],
   "source": []
  }
 ],
 "metadata": {
  "kernelspec": {
   "display_name": "Python 3",
   "language": "python",
   "name": "python3"
  },
  "language_info": {
   "codemirror_mode": {
    "name": "ipython",
    "version": 3
   },
   "file_extension": ".py",
   "mimetype": "text/x-python",
   "name": "python",
   "nbconvert_exporter": "python",
   "pygments_lexer": "ipython3",
   "version": "3.6.5"
  }
 },
 "nbformat": 4,
 "nbformat_minor": 2
}
