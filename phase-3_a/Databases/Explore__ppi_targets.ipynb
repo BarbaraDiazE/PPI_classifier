{
 "cells": [
  {
   "cell_type": "markdown",
   "metadata": {},
   "source": [
    "Explore PPI targets from ChEMBL. Dec 2020"
   ]
  },
  {
   "cell_type": "code",
   "execution_count": 2,
   "metadata": {},
   "outputs": [],
   "source": [
    "import pandas as pd"
   ]
  },
  {
   "cell_type": "code",
   "execution_count": 4,
   "metadata": {},
   "outputs": [],
   "source": [
    "data = pd.read_csv(\"ppi_targets_ChEMBL_12_20.csv\", sep = \";\")"
   ]
  },
  {
   "cell_type": "code",
   "execution_count": 7,
   "metadata": {},
   "outputs": [
    {
     "data": {
      "text/html": [
       "<div>\n",
       "<style scoped>\n",
       "    .dataframe tbody tr th:only-of-type {\n",
       "        vertical-align: middle;\n",
       "    }\n",
       "\n",
       "    .dataframe tbody tr th {\n",
       "        vertical-align: top;\n",
       "    }\n",
       "\n",
       "    .dataframe thead th {\n",
       "        text-align: right;\n",
       "    }\n",
       "</style>\n",
       "<table border=\"1\" class=\"dataframe\">\n",
       "  <thead>\n",
       "    <tr style=\"text-align: right;\">\n",
       "      <th></th>\n",
       "      <th>ChEMBL ID</th>\n",
       "      <th>Name</th>\n",
       "      <th>UniProt Accessions</th>\n",
       "      <th>Type</th>\n",
       "      <th>Organism</th>\n",
       "      <th>Compounds</th>\n",
       "      <th>Activities</th>\n",
       "      <th>Tax ID</th>\n",
       "      <th>Species Group Flag</th>\n",
       "    </tr>\n",
       "  </thead>\n",
       "  <tbody>\n",
       "    <tr>\n",
       "      <th>0</th>\n",
       "      <td>CHEMBL3883285</td>\n",
       "      <td>Bcl-xL/BH3-interacting domain death agonist</td>\n",
       "      <td>Q07817|P55957</td>\n",
       "      <td>PROTEIN-PROTEIN INTERACTION</td>\n",
       "      <td>Homo sapiens</td>\n",
       "      <td>4</td>\n",
       "      <td>4</td>\n",
       "      <td>9606</td>\n",
       "      <td>False</td>\n",
       "    </tr>\n",
       "    <tr>\n",
       "      <th>1</th>\n",
       "      <td>CHEMBL3301394</td>\n",
       "      <td>P-selectin/P-selectin glycoprotein ligand 1</td>\n",
       "      <td>Q14242|P16109</td>\n",
       "      <td>PROTEIN-PROTEIN INTERACTION</td>\n",
       "      <td>Homo sapiens</td>\n",
       "      <td>3</td>\n",
       "      <td>3</td>\n",
       "      <td>9606</td>\n",
       "      <td>False</td>\n",
       "    </tr>\n",
       "    <tr>\n",
       "      <th>2</th>\n",
       "      <td>CHEMBL4296143</td>\n",
       "      <td>von Hippel-Lindau disease tumor suppressor/Bro...</td>\n",
       "      <td>P25440|P40337</td>\n",
       "      <td>PROTEIN-PROTEIN INTERACTION</td>\n",
       "      <td>Homo sapiens</td>\n",
       "      <td>1</td>\n",
       "      <td>1</td>\n",
       "      <td>9606</td>\n",
       "      <td>False</td>\n",
       "    </tr>\n",
       "    <tr>\n",
       "      <th>3</th>\n",
       "      <td>CHEMBL3885584</td>\n",
       "      <td>Guanine nucleotide-binding protein G(i) subuni...</td>\n",
       "      <td>P63096|O14924</td>\n",
       "      <td>PROTEIN-PROTEIN INTERACTION</td>\n",
       "      <td>Homo sapiens</td>\n",
       "      <td>61</td>\n",
       "      <td>61</td>\n",
       "      <td>9606</td>\n",
       "      <td>False</td>\n",
       "    </tr>\n",
       "    <tr>\n",
       "      <th>4</th>\n",
       "      <td>CHEMBL2096976</td>\n",
       "      <td>Peroxisome proliferator-activated receptor gam...</td>\n",
       "      <td>P37231|Q9Y618</td>\n",
       "      <td>PROTEIN-PROTEIN INTERACTION</td>\n",
       "      <td>Homo sapiens</td>\n",
       "      <td>239</td>\n",
       "      <td>239</td>\n",
       "      <td>9606</td>\n",
       "      <td>False</td>\n",
       "    </tr>\n",
       "  </tbody>\n",
       "</table>\n",
       "</div>"
      ],
      "text/plain": [
       "       ChEMBL ID                                               Name  \\\n",
       "0  CHEMBL3883285        Bcl-xL/BH3-interacting domain death agonist   \n",
       "1  CHEMBL3301394        P-selectin/P-selectin glycoprotein ligand 1   \n",
       "2  CHEMBL4296143  von Hippel-Lindau disease tumor suppressor/Bro...   \n",
       "3  CHEMBL3885584  Guanine nucleotide-binding protein G(i) subuni...   \n",
       "4  CHEMBL2096976  Peroxisome proliferator-activated receptor gam...   \n",
       "\n",
       "  UniProt Accessions                         Type      Organism  Compounds  \\\n",
       "0      Q07817|P55957  PROTEIN-PROTEIN INTERACTION  Homo sapiens          4   \n",
       "1      Q14242|P16109  PROTEIN-PROTEIN INTERACTION  Homo sapiens          3   \n",
       "2      P25440|P40337  PROTEIN-PROTEIN INTERACTION  Homo sapiens          1   \n",
       "3      P63096|O14924  PROTEIN-PROTEIN INTERACTION  Homo sapiens         61   \n",
       "4      P37231|Q9Y618  PROTEIN-PROTEIN INTERACTION  Homo sapiens        239   \n",
       "\n",
       "   Activities  Tax ID  Species Group Flag  \n",
       "0           4    9606               False  \n",
       "1           3    9606               False  \n",
       "2           1    9606               False  \n",
       "3          61    9606               False  \n",
       "4         239    9606               False  "
      ]
     },
     "execution_count": 7,
     "metadata": {},
     "output_type": "execute_result"
    }
   ],
   "source": [
    "data.head()"
   ]
  },
  {
   "cell_type": "code",
   "execution_count": 8,
   "metadata": {},
   "outputs": [
    {
     "data": {
      "text/plain": [
       "Index(['ChEMBL ID', 'Name', 'UniProt Accessions', 'Type', 'Organism',\n",
       "       'Compounds', 'Activities', 'Tax ID', 'Species Group Flag'],\n",
       "      dtype='object')"
      ]
     },
     "execution_count": 8,
     "metadata": {},
     "output_type": "execute_result"
    }
   ],
   "source": [
    "data.columns"
   ]
  },
  {
   "cell_type": "code",
   "execution_count": 13,
   "metadata": {},
   "outputs": [
    {
     "data": {
      "text/plain": [
       "array(['Q07817|P55957', 'Q14242|P16109', 'P25440|P40337', 'P63096|O14924',\n",
       "       'P37231|Q9Y618', 'Q9NQB0|P12830', 'P63000|Q13009', 'P37231|Q15596',\n",
       "       'Q92769|Q96SW2', 'P49336|Q96SW2', 'P04637|Q08752', 'P36402|P35222',\n",
       "       'P10275|Q13490', 'P25440|Q96SW2|Q13619', 'Q96EB6|Q96SW2',\n",
       "       'P40763|P43378', 'Q9UM73|Q9HC35|Q96SW2', 'P08887|P40189',\n",
       "       'Q00975|Q02410', 'P35557|Q14397', 'Q13616|P63208', 'O14641|O15169',\n",
       "       'P05107|P11215|P29965', 'Q07820|Q07812', 'O00255|Q03164',\n",
       "       'Q07817|O43521', 'P15659|P03430', 'O60885|P40337', 'P25942|P29965',\n",
       "       'Q13489|P42858', 'Q9BWU1|Q96SW2', 'Q14164|P40337', 'P10636|Q13618',\n",
       "       'P01106|P40337', 'P10636|Q14145', 'Q9UBN7|Q96SW2', 'P04637|P53355',\n",
       "       'P62942|Q96SW2', 'Q13404|P61088', 'P25440|P40337|Q15370|Q15369',\n",
       "       'P03433|P03431', 'P37231|Q15788', 'O35235|O35305', 'P04637|Q92793',\n",
       "       'Q15059|P40337', 'P49841|O15169', 'Q07817|Q9BXH1', 'P00519|Q13671',\n",
       "       'P00519|P11274|Q13490', 'Q15059|P40337|Q15370|Q15369',\n",
       "       'P37231|Q9Y6Q9', 'Q07820|P55957', 'P00519|P98170|P11274',\n",
       "       'P12931|P0DP23', 'O60885|Q96SW2|Q16531', 'Q96SW2|Q9UKT9',\n",
       "       'P61964|Q03164', 'Q00987|O15151', 'P06869|P20918|P35456',\n",
       "       'P06729|P19256', 'P84022|P01137', 'Q14974|O95149', 'Q14145|Q13501',\n",
       "       'O54908|O88572', 'O88559|P55200', 'P00749|Q03405', 'Q9ULK4|P78545',\n",
       "       'P25054|Q9NQB0', 'P13569|Q9HD26', 'P49674|O15169', 'Q8IXJ6|Q96SW2',\n",
       "       'P18870|P01109', 'Q07820|O43521', 'P35222|Q9Y2T1', 'Q9NPI8|Q14469',\n",
       "       'P00519|P11274|Q96SW2', 'P11309|P32455', 'Q16236|Q14145',\n",
       "       'P40189|P42702', 'P56524|Q96SW2', 'P04637|P27694', 'P10415|Q07812',\n",
       "       'Q07812|Q16548', 'Q60795|Q9Z2X8', 'P01106|P61244', 'P17712|Q07071',\n",
       "       'P04637|O15151', 'Q07817|Q16611', 'P07355|P60903', 'P46937|P28347',\n",
       "       'O60885|P40337|Q15370|Q15369', 'Q9UHD2|P40337', 'O43353|P40337',\n",
       "       'P11474|P40337', 'Q96SW2|P15170', 'O15169|P98164', 'O60885|Q96SW2',\n",
       "       'Q00G26|Q8WTS1', 'Q13309|P46527', 'Q07817|Q07812', 'Q01196|Q13951',\n",
       "       'Q13547|Q96SW2', 'P61964|Q03164|Q9UBL3|Q15291|Q9C005',\n",
       "       'P10636|Q14145|Q13618', 'Q15059|Q96SW2|Q13619',\n",
       "       'Q09472|Q16665|Q92793', 'O60885|Q96SW2|Q13619', 'P04202|Q8BUN5',\n",
       "       'P14174|P04233', 'Q13309|P63208', 'P04637|Q00987', 'P35916|Q05397',\n",
       "       'P06730|Q13541', 'O00206|Q9Y6Y9', 'P10415|Q16611', 'O94907|O75581',\n",
       "       'P27540|Q99814', 'P40933|Q13261', 'Q8WTS1|O60240', 'P13501|P59665',\n",
       "       'P04637|Q00987|O15151', 'P41182|Q6W2J9', 'P61024|Q13309',\n",
       "       'Q9UM73|P06748|Q96SW2'], dtype=object)"
      ]
     },
     "execution_count": 13,
     "metadata": {},
     "output_type": "execute_result"
    }
   ],
   "source": [
    "data[\"UniProt Accessions\"].unique()"
   ]
  },
  {
   "cell_type": "code",
   "execution_count": 25,
   "metadata": {},
   "outputs": [
    {
     "data": {
      "text/plain": [
       "(114, 9)"
      ]
     },
     "execution_count": 25,
     "metadata": {},
     "output_type": "execute_result"
    }
   ],
   "source": [
    "data_hs = data[data[\"Organism\"]==\"Homo sapiens\"]\n",
    "data_hs.shape"
   ]
  },
  {
   "cell_type": "code",
   "execution_count": 28,
   "metadata": {},
   "outputs": [
    {
     "data": {
      "text/plain": [
       "array(['Bcl-xL/BH3-interacting domain death agonist',\n",
       "       'P-selectin/P-selectin glycoprotein ligand 1',\n",
       "       'von Hippel-Lindau disease tumor suppressor/Bromodomain-containing protein 2',\n",
       "       'Guanine nucleotide-binding protein G(i) subunit alpha-1/Regulator of G-protein signaling 12',\n",
       "       'Peroxisome proliferator-activated receptor gamma/Nuclear receptor corepressor 2',\n",
       "       'Cadherin-1/Transcription factor 7-like 2',\n",
       "       'Ras-related C3 botulinum toxin substrate 1/T-lymphoma invasion and metastasis-inducing protein 1',\n",
       "       'Peroxisome proliferator-activated receptor gamma/Nuclear receptor coactivator 2',\n",
       "       'Cereblon/Histone deacetylase 2',\n",
       "       'Cereblon/Cyclin-dependent kinase 8',\n",
       "       'Cellular tumor antigen p53/Peptidyl-prolyl cis-trans isomerase D',\n",
       "       'Catenin beta-1/Transcription factor 7',\n",
       "       'Androgen receptor/Baculoviral IAP repeat-containing protein 2',\n",
       "       'Cereblon/Cullin-4A/Bromodomain-containing protein 2',\n",
       "       'Cereblon/NAD-dependent protein deacetylase sirtuin-1',\n",
       "       'PTPN9/STAT3', 'Cereblon/EML4/ALK', 'IL6Ralpha/GP130',\n",
       "       'Voltage-gated N-type calcium channel alpha-1B subunit/Amyloid beta A4 precursor protein-binding family A member 1',\n",
       "       'Glucokinase/Glucokinase regulatory protein',\n",
       "       'Cullin-1/S-phase kinase-associated protein 1', 'Axin-1/DVL-2',\n",
       "       'MAC1-CD40L',\n",
       "       'Apoptosis regulator BAX/Induced myeloid leukemia cell differentiation protein Mcl-1',\n",
       "       'Menin/Histone-lysine N-methyltransferase MLL',\n",
       "       'Bcl-xL/Bcl-2-like protein 11',\n",
       "       'von Hippel-Lindau disease tumor suppressor/Bromodomain-containing protein 4',\n",
       "       'CD40-CD40L',\n",
       "       'Baculoviral IAP repeat-containing protein 3/Huntingtin',\n",
       "       'Cereblon/Cyclin-dependent kinase 19',\n",
       "       'von Hippel-Lindau disease tumor suppressor/Inhibitor of nuclear factor kappa-B kinase subunit epsilon',\n",
       "       'Cullin-3/Microtubule-associated protein tau',\n",
       "       'von Hippel-Lindau disease tumor suppressor/Myc proto-oncogene protein',\n",
       "       'KEAP1/Microtubule-associated protein tau',\n",
       "       'Cereblon/Histone deacetylase 6',\n",
       "       'Cellular tumor antigen p53/Death-associated protein kinase 1',\n",
       "       'Cereblon/Peptidyl-prolyl cis-trans isomerase FKBP1A',\n",
       "       'Ubiquitin-conjugating enzyme E2 N/Ubiquitin-conjugating enzyme E2 variant 1',\n",
       "       'von Hippel-Lindau disease tumor suppressor/Elongin-B/Elongin-C/Bromodomain-containing protein 2',\n",
       "       'Peroxisome proliferator-activated receptor gamma/Nuclear receptor coactivator 1',\n",
       "       'CREB-binding protein/p53',\n",
       "       'von Hippel-Lindau disease tumor suppressor/Bromodomain-containing protein 3',\n",
       "       'Axin-1/Glycogen synthase kinase-3 beta',\n",
       "       'Bcl-xL/Bcl-2-binding component 3',\n",
       "       'Ras and Rab interactor 1/Tyrosine-protein kinase ABL1',\n",
       "       'Baculoviral IAP repeat-containing protein 2/BCR/ABL',\n",
       "       'von Hippel-Lindau disease tumor suppressor/Elongin-B/Elongin-C/Bromodomain-containing protein 3',\n",
       "       'Peroxisome proliferator-activated receptor gamma/Nuclear receptor coactivator 3',\n",
       "       'Induced myeloid leukemia cell differentiation protein Mcl-1/BH3-interacting domain death agonist',\n",
       "       'E3 ubiquitin-protein ligase XIAP/BCR/ABL',\n",
       "       'Calmodulin/Proto-oncogene tyrosine-protein kinase Src',\n",
       "       'Cereblon/DNA damage-binding protein 1/Bromodomain-containing protein 4',\n",
       "       'Cereblon/Aiolos', 'Histone-lysine N-methyltransferase 2A/WDR5',\n",
       "       'MDM2-MDMX',\n",
       "       'Lymphocyte function-associated antigen 3/T-cell surface antigen CD2',\n",
       "       'Transforming growth factor beta-1 proprotein/Mothers against decapentaplegic homolog 3',\n",
       "       'Importin subunit beta-1/Snurportin-1', 'Keap1-p62',\n",
       "       'Urokinase-type plasminogen activator/surface receptor',\n",
       "       'ETS-related transcription factor Elf-3/Vitamin D3 receptor-interacting protein (ESX/MED23)',\n",
       "       'Adenomatous polyposis coli protein/Transcription factor 7-like 2',\n",
       "       'Cystic fibrosis transmembrane conductance regulator/Golgi-associated PDZ and coiled-coil motif-containing protein',\n",
       "       'Axin-1/Casein kinase I epsilon',\n",
       "       'Cereblon/NAD-dependent protein deacetylase sirtuin-2',\n",
       "       'Induced myeloid leukemia cell differentiation protein Mcl-1/Bcl-2-like protein 11',\n",
       "       'Axin-2/Catenin beta-1',\n",
       "       'Fanconi anemia group F protein/Transcription factor HES-1',\n",
       "       'Cereblon/BCR/ABL',\n",
       "       'Interferon-induced guanylate-binding protein 1/Serine/threonine-protein kinase pim-1',\n",
       "       'Keap1/Nrf2', 'LIFR/GP130', 'Cereblon/Histone deacetylase 4',\n",
       "       'Cellular tumor antigen p53/Replication protein A 70 kDa DNA-binding subunit',\n",
       "       'Apoptosis regulator BAX/Bcl-2',\n",
       "       'Apoptosis regulator BAX/Bcl-2-related protein A1', 'c-Myc/c-Max',\n",
       "       'Tumour suppressor protein p53/Mdm4', 'Bcl-xL/BAK',\n",
       "       'Annexin A2/S100-A10',\n",
       "       'Transcriptional coactivator YAP1/Transcriptional enhancer factor TEF-1',\n",
       "       'von Hippel-Lindau disease tumor suppressor/Elongin-B/Elongin-C/Bromodomain-containing protein 4',\n",
       "       'von Hippel-Lindau disease tumor suppressor/Serine/threonine-protein kinase TBK1',\n",
       "       'von Hippel-Lindau disease tumor suppressor/Receptor-interacting serine/threonine-protein kinase 2',\n",
       "       'von Hippel-Lindau disease tumor suppressor/Steroid hormone receptor ERR1',\n",
       "       'Cereblon/GSPT1',\n",
       "       'Axin-1/Low-density lipoprotein receptor-related protein 2',\n",
       "       'Cereblon/Bromodomain-containing protein 4',\n",
       "       '1-acylglycerol-3-phosphate O-acyltransferase ABHD5/Perilipin-5',\n",
       "       'Cyclin-dependent kinase inhibitor 1B/S-phase kinase-associated protein 2',\n",
       "       'Bcl-xL/BAX',\n",
       "       'Runt-related transcription factor 1/Core-binding factor subunit beta',\n",
       "       'Cereblon/Histone deacetylase 1', 'MLL1-ASH2L/RbBP5/WDR5/DPY30',\n",
       "       'KEAP1/Cullin-3/Microtubule-associated protein tau',\n",
       "       'Cereblon/Cullin-4A/Bromodomain-containing protein 3',\n",
       "       'HIF1A/p300/CREB-binding protein',\n",
       "       'Cereblon/Cullin-4A/Bromodomain-containing protein 4',\n",
       "       'MIF/CD74 (Macrophage migration inhibitory factor and HLA-DR antigens-associated invariant chain)',\n",
       "       'S-phase kinase-associated protein 1/2',\n",
       "       'Tumour suppressor p53/oncoprotein Mdm2',\n",
       "       'Focal adhesion kinase 1/vascular endothelial growth factor receptor 3',\n",
       "       'Eukaryotic translation initiation factor 4E/Eukaryotic translation initiation factor 4E-binding protein 1',\n",
       "       'TLR4-MD2',\n",
       "       'Apoptosis regulator Bcl-2/Bcl-2 homologous antagonist/killer',\n",
       "       'Dickkopf-related protein 1/Low-density lipoprotein receptor-related protein 6',\n",
       "       'Aryl hydrocarbon receptor nuclear translocator/Endothelial PAS domain-containing protein 1',\n",
       "       'IL15-IL15 receptor', 'Perilipin-1/ABHD5',\n",
       "       'C-C motif chemokine 5/Neutrophil defensin 1 (Defensin, alpha 1) ',\n",
       "       'MDM2/MDMX-p53', 'BCoR-BCL6',\n",
       "       'Cyclin-dependent kinases regulatory subunit 1/S-phase kinase-associated protein 2',\n",
       "       'Cereblon/NPM/ALK'], dtype=object)"
      ]
     },
     "execution_count": 28,
     "metadata": {},
     "output_type": "execute_result"
    }
   ],
   "source": [
    "data_hs.Name.unique()"
   ]
  },
  {
   "cell_type": "code",
   "execution_count": null,
   "metadata": {},
   "outputs": [],
   "source": []
  }
 ],
 "metadata": {
  "kernelspec": {
   "display_name": "Python 3",
   "language": "python",
   "name": "python3"
  },
  "language_info": {
   "codemirror_mode": {
    "name": "ipython",
    "version": 3
   },
   "file_extension": ".py",
   "mimetype": "text/x-python",
   "name": "python",
   "nbconvert_exporter": "python",
   "pygments_lexer": "ipython3",
   "version": "3.6.5"
  }
 },
 "nbformat": 4,
 "nbformat_minor": 4
}
