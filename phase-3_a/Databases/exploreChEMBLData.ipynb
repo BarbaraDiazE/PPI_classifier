{
 "cells": [
  {
   "cell_type": "code",
   "execution_count": null,
   "metadata": {},
   "outputs": [],
   "source": []
  },
  {
   "cell_type": "code",
   "execution_count": 2,
   "metadata": {},
   "outputs": [
    {
     "name": "stdout",
     "output_type": "stream",
     "text": [
      "BCL.csv  Bromodomain.csv\r\n"
     ]
    }
   ],
   "source": [
    "ls ChEMBL"
   ]
  },
  {
   "cell_type": "code",
   "execution_count": 3,
   "metadata": {},
   "outputs": [],
   "source": [
    "import pandas as pd"
   ]
  },
  {
   "cell_type": "code",
   "execution_count": 7,
   "metadata": {},
   "outputs": [],
   "source": [
    "data = pd.read_csv(\"ChEMBL/BCL.csv\", sep =\";\")"
   ]
  },
  {
   "cell_type": "code",
   "execution_count": 8,
   "metadata": {},
   "outputs": [
    {
     "data": {
      "text/html": [
       "<div>\n",
       "<style scoped>\n",
       "    .dataframe tbody tr th:only-of-type {\n",
       "        vertical-align: middle;\n",
       "    }\n",
       "\n",
       "    .dataframe tbody tr th {\n",
       "        vertical-align: top;\n",
       "    }\n",
       "\n",
       "    .dataframe thead th {\n",
       "        text-align: right;\n",
       "    }\n",
       "</style>\n",
       "<table border=\"1\" class=\"dataframe\">\n",
       "  <thead>\n",
       "    <tr style=\"text-align: right;\">\n",
       "      <th></th>\n",
       "      <th>ChEMBL ID</th>\n",
       "      <th>Name</th>\n",
       "      <th>UniProt Accessions</th>\n",
       "      <th>Type</th>\n",
       "      <th>Organism</th>\n",
       "      <th>Compounds</th>\n",
       "      <th>Activities</th>\n",
       "      <th>Tax ID</th>\n",
       "      <th>Species Group Flag</th>\n",
       "    </tr>\n",
       "  </thead>\n",
       "  <tbody>\n",
       "    <tr>\n",
       "      <th>0</th>\n",
       "      <td>CHEMBL3883285</td>\n",
       "      <td>Bcl-xL/BH3-interacting domain death agonist</td>\n",
       "      <td>Q07817|P55957</td>\n",
       "      <td>PROTEIN-PROTEIN INTERACTION</td>\n",
       "      <td>Homo sapiens</td>\n",
       "      <td>4</td>\n",
       "      <td>4</td>\n",
       "      <td>9606</td>\n",
       "      <td>False</td>\n",
       "    </tr>\n",
       "    <tr>\n",
       "      <th>1</th>\n",
       "      <td>CHEMBL3885515</td>\n",
       "      <td>Apoptosis regulator BAX/Induced myeloid leukem...</td>\n",
       "      <td>Q07820|Q07812</td>\n",
       "      <td>PROTEIN-PROTEIN INTERACTION</td>\n",
       "      <td>Homo sapiens</td>\n",
       "      <td>4</td>\n",
       "      <td>7</td>\n",
       "      <td>9606</td>\n",
       "      <td>False</td>\n",
       "    </tr>\n",
       "    <tr>\n",
       "      <th>2</th>\n",
       "      <td>CHEMBL3883287</td>\n",
       "      <td>Bcl-xL/Bcl-2-like protein 11</td>\n",
       "      <td>Q07817|O43521</td>\n",
       "      <td>PROTEIN-PROTEIN INTERACTION</td>\n",
       "      <td>Homo sapiens</td>\n",
       "      <td>38</td>\n",
       "      <td>38</td>\n",
       "      <td>9606</td>\n",
       "      <td>False</td>\n",
       "    </tr>\n",
       "    <tr>\n",
       "      <th>3</th>\n",
       "      <td>CHEMBL3883288</td>\n",
       "      <td>Bcl-xL/Bcl-2-binding component 3</td>\n",
       "      <td>Q07817|Q9BXH1</td>\n",
       "      <td>PROTEIN-PROTEIN INTERACTION</td>\n",
       "      <td>Homo sapiens</td>\n",
       "      <td>4</td>\n",
       "      <td>4</td>\n",
       "      <td>9606</td>\n",
       "      <td>False</td>\n",
       "    </tr>\n",
       "    <tr>\n",
       "      <th>4</th>\n",
       "      <td>CHEMBL3430886</td>\n",
       "      <td>Induced myeloid leukemia cell differentiation ...</td>\n",
       "      <td>Q07820|P55957</td>\n",
       "      <td>PROTEIN-PROTEIN INTERACTION</td>\n",
       "      <td>Homo sapiens</td>\n",
       "      <td>17</td>\n",
       "      <td>17</td>\n",
       "      <td>9606</td>\n",
       "      <td>False</td>\n",
       "    </tr>\n",
       "  </tbody>\n",
       "</table>\n",
       "</div>"
      ],
      "text/plain": [
       "       ChEMBL ID                                               Name  \\\n",
       "0  CHEMBL3883285        Bcl-xL/BH3-interacting domain death agonist   \n",
       "1  CHEMBL3885515  Apoptosis regulator BAX/Induced myeloid leukem...   \n",
       "2  CHEMBL3883287                       Bcl-xL/Bcl-2-like protein 11   \n",
       "3  CHEMBL3883288                   Bcl-xL/Bcl-2-binding component 3   \n",
       "4  CHEMBL3430886  Induced myeloid leukemia cell differentiation ...   \n",
       "\n",
       "  UniProt Accessions                         Type      Organism  Compounds  \\\n",
       "0      Q07817|P55957  PROTEIN-PROTEIN INTERACTION  Homo sapiens          4   \n",
       "1      Q07820|Q07812  PROTEIN-PROTEIN INTERACTION  Homo sapiens          4   \n",
       "2      Q07817|O43521  PROTEIN-PROTEIN INTERACTION  Homo sapiens         38   \n",
       "3      Q07817|Q9BXH1  PROTEIN-PROTEIN INTERACTION  Homo sapiens          4   \n",
       "4      Q07820|P55957  PROTEIN-PROTEIN INTERACTION  Homo sapiens         17   \n",
       "\n",
       "   Activities  Tax ID  Species Group Flag  \n",
       "0           4    9606               False  \n",
       "1           7    9606               False  \n",
       "2          38    9606               False  \n",
       "3           4    9606               False  \n",
       "4          17    9606               False  "
      ]
     },
     "execution_count": 8,
     "metadata": {},
     "output_type": "execute_result"
    }
   ],
   "source": [
    "data.head()"
   ]
  },
  {
   "cell_type": "code",
   "execution_count": 9,
   "metadata": {},
   "outputs": [
    {
     "data": {
      "text/plain": [
       "array(['Q07817|P55957', 'Q07820|Q07812', 'Q07817|O43521', 'Q07817|Q9BXH1',\n",
       "       'Q07820|P55957', 'Q07820|O43521', 'P10415|Q07812', 'Q07812|Q16548',\n",
       "       'Q07817|Q16611', 'Q07817|Q07812', 'P10415|Q16611'], dtype=object)"
      ]
     },
     "execution_count": 9,
     "metadata": {},
     "output_type": "execute_result"
    }
   ],
   "source": [
    "data[\"UniProt Accessions\"].unique()"
   ]
  },
  {
   "cell_type": "code",
   "execution_count": null,
   "metadata": {},
   "outputs": [],
   "source": []
  }
 ],
 "metadata": {
  "kernelspec": {
   "display_name": "Python 3",
   "language": "python",
   "name": "python3"
  },
  "language_info": {
   "codemirror_mode": {
    "name": "ipython",
    "version": 3
   },
   "file_extension": ".py",
   "mimetype": "text/x-python",
   "name": "python",
   "nbconvert_exporter": "python",
   "pygments_lexer": "ipython3",
   "version": "3.6.5"
  }
 },
 "nbformat": 4,
 "nbformat_minor": 4
}
