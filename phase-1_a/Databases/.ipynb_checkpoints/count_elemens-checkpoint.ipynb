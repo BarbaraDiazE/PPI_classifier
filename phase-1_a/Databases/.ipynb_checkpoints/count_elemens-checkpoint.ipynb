{
 "cells": [
  {
   "cell_type": "markdown",
   "metadata": {},
   "source": [
    "Add two id columns, PPI and Epigenetic"
   ]
  },
  {
   "cell_type": "code",
   "execution_count": null,
   "metadata": {},
   "outputs": [],
   "source": [
    "import pandas as pd"
   ]
  },
  {
   "cell_type": "code",
   "execution_count": 34,
   "metadata": {},
   "outputs": [],
   "source": [
    "def add_columns(file_name, PPI, Epigenetic):\n",
    "    Data = pd.read_csv(file_name)\n",
    "    Data[\"PPI\"] = [PPI for i in range(len(Data[\"Name\"]))]\n",
    "    Data[\"Epigenetic\"] = [Epigenetic for i in range(len(Data[\"Name\"]))]\n",
    "    Data = Data.drop( \"Unnamed: 0\", axis = 1)\n",
    "    print(Data.head())\n",
    "    Data.to_csv(file_name, sep = \",\")"
   ]
  },
  {
   "cell_type": "code",
   "execution_count": 35,
   "metadata": {},
   "outputs": [
    {
     "name": "stdout",
     "output_type": "stream",
     "text": [
      "   ID Database  Name                                             SMILES  HBA  \\\n",
      "0            5     5  CNC(=O)c1ccc(O[C@H](C)C(=O)N2CCN(C[C@H]2C)C(=O...  4.0   \n",
      "1           13    13  Fc1ccc(C#N)c2[nH]cc(C(=O)C(=O)N3CCN(CC3)C(=O)c...  4.0   \n",
      "2           54    54  COc1ccc(Cl)c2[nH]cc(C(=O)C(=O)N3CCN(CC3)C(=O)c...  4.0   \n",
      "3           66    66  FC(F)(F)Oc1ccc(Br)c2[nH]cc(C(=O)C(=O)N3CCN(CC3...  4.0   \n",
      "4           70    70  CC[C@H]1CN(CCN1C(=O)C(=O)c1c[nH]c2cccc(F)c12)C...  3.0   \n",
      "\n",
      "   HBD   RB     LogP   TPSA       MW  Heavy Atom  Ring Count  Fraction CSP3  \\\n",
      "0  1.0  5.0  2.18660  78.95  409.486        30.0        30.0           30.0   \n",
      "1  1.0  3.0  2.34598  97.27  404.401        30.0        30.0           30.0   \n",
      "2  1.0  4.0  2.99720  82.71  425.872        30.0        30.0           30.0   \n",
      "3  1.0  4.0  3.99630  82.71  524.293        33.0        33.0           33.0   \n",
      "4  1.0  4.0  3.25290  73.48  407.445        30.0        30.0           30.0   \n",
      "\n",
      "  subLibrary Library  PPI Epigenetic  \n",
      "0  CD4/gp120     PPI  Yes         No  \n",
      "1  CD4/gp120     PPI  Yes         No  \n",
      "2  CD4/gp120     PPI  Yes         No  \n",
      "3  CD4/gp120     PPI  Yes         No  \n",
      "4  CD4/gp120     PPI  Yes         No  \n"
     ]
    }
   ],
   "source": [
    "add_columns(\"PPI_DB.csv\", \"Yes\", \"No\")"
   ]
  },
  {
   "cell_type": "code",
   "execution_count": null,
   "metadata": {},
   "outputs": [],
   "source": []
  }
 ],
 "metadata": {
  "kernelspec": {
   "display_name": "Python 3",
   "language": "python",
   "name": "python3"
  },
  "language_info": {
   "codemirror_mode": {
    "name": "ipython",
    "version": 3
   },
   "file_extension": ".py",
   "mimetype": "text/x-python",
   "name": "python",
   "nbconvert_exporter": "python",
   "pygments_lexer": "ipython3",
   "version": "3.7.3"
  }
 },
 "nbformat": 4,
 "nbformat_minor": 2
}
